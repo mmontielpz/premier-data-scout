{
  "nbformat": 4,
  "nbformat_minor": 0,
  "metadata": {
    "colab": {
      "provenance": [],
      "include_colab_link": true
    },
    "kernelspec": {
      "name": "python3",
      "display_name": "Python 3"
    },
    "language_info": {
      "name": "python"
    }
  },
  "cells": [
    {
      "cell_type": "markdown",
      "metadata": {
        "id": "view-in-github",
        "colab_type": "text"
      },
      "source": [
        "<a href=\"https://colab.research.google.com/github/mmontielpz/premier-data-scout/blob/main/noteboks/data_cleaning.ipynb\" target=\"_parent\"><img src=\"https://colab.research.google.com/assets/colab-badge.svg\" alt=\"Open In Colab\"/></a>"
      ]
    },
    {
      "cell_type": "markdown",
      "source": [
        "# Install Required Packages"
      ],
      "metadata": {
        "id": "vLlGfvYZFV8i"
      }
    },
    {
      "cell_type": "code",
      "source": [
        "!pip install soccerdata"
      ],
      "metadata": {
        "id": "GZgkGjJiuODy",
        "colab": {
          "base_uri": "https://localhost:8080/"
        },
        "outputId": "4ddffb34-17ec-4a78-fcc0-bf1affbe2a8e"
      },
      "execution_count": 36,
      "outputs": [
        {
          "output_type": "stream",
          "name": "stdout",
          "text": [
            "Requirement already satisfied: soccerdata in /usr/local/lib/python3.11/dist-packages (1.8.7)\n",
            "Requirement already satisfied: PySocks<2.0.0,>=1.7.1 in /usr/local/lib/python3.11/dist-packages (from soccerdata) (1.7.1)\n",
            "Requirement already satisfied: Unidecode<2.0.0,>=1.2.0 in /usr/local/lib/python3.11/dist-packages (from soccerdata) (1.3.8)\n",
            "Requirement already satisfied: cloudscraper<2.0.0,>=1.2.71 in /usr/local/lib/python3.11/dist-packages (from soccerdata) (1.2.71)\n",
            "Requirement already satisfied: html5lib<2.0,>=1.1 in /usr/local/lib/python3.11/dist-packages (from soccerdata) (1.1)\n",
            "Requirement already satisfied: lxml<5.0.0,>=4.9.3 in /usr/local/lib/python3.11/dist-packages (from soccerdata) (4.9.4)\n",
            "Requirement already satisfied: packaging<25.0,>=24.1 in /usr/local/lib/python3.11/dist-packages (from soccerdata) (24.2)\n",
            "Requirement already satisfied: pandas!=2.1.0,<3.0.0,>=2.0.0 in /usr/local/lib/python3.11/dist-packages (from soccerdata) (2.2.2)\n",
            "Requirement already satisfied: requests<3.0,>=2.23 in /usr/local/lib/python3.11/dist-packages (from soccerdata) (2.32.3)\n",
            "Requirement already satisfied: rich<14.0.0,>=13.0.0 in /usr/local/lib/python3.11/dist-packages (from soccerdata) (13.9.4)\n",
            "Requirement already satisfied: undetected-chromedriver<4.0.0,>=3.5.0 in /usr/local/lib/python3.11/dist-packages (from soccerdata) (3.5.5)\n",
            "Requirement already satisfied: unicode<3.0,>=2.7 in /usr/local/lib/python3.11/dist-packages (from soccerdata) (2.9)\n",
            "Requirement already satisfied: pyparsing>=2.4.7 in /usr/local/lib/python3.11/dist-packages (from cloudscraper<2.0.0,>=1.2.71->soccerdata) (3.2.1)\n",
            "Requirement already satisfied: requests-toolbelt>=0.9.1 in /usr/local/lib/python3.11/dist-packages (from cloudscraper<2.0.0,>=1.2.71->soccerdata) (1.0.0)\n",
            "Requirement already satisfied: six>=1.9 in /usr/local/lib/python3.11/dist-packages (from html5lib<2.0,>=1.1->soccerdata) (1.17.0)\n",
            "Requirement already satisfied: webencodings in /usr/local/lib/python3.11/dist-packages (from html5lib<2.0,>=1.1->soccerdata) (0.5.1)\n",
            "Requirement already satisfied: numpy>=1.23.2 in /usr/local/lib/python3.11/dist-packages (from pandas!=2.1.0,<3.0.0,>=2.0.0->soccerdata) (1.26.4)\n",
            "Requirement already satisfied: python-dateutil>=2.8.2 in /usr/local/lib/python3.11/dist-packages (from pandas!=2.1.0,<3.0.0,>=2.0.0->soccerdata) (2.8.2)\n",
            "Requirement already satisfied: pytz>=2020.1 in /usr/local/lib/python3.11/dist-packages (from pandas!=2.1.0,<3.0.0,>=2.0.0->soccerdata) (2025.1)\n",
            "Requirement already satisfied: tzdata>=2022.7 in /usr/local/lib/python3.11/dist-packages (from pandas!=2.1.0,<3.0.0,>=2.0.0->soccerdata) (2025.1)\n",
            "Requirement already satisfied: charset-normalizer<4,>=2 in /usr/local/lib/python3.11/dist-packages (from requests<3.0,>=2.23->soccerdata) (3.4.1)\n",
            "Requirement already satisfied: idna<4,>=2.5 in /usr/local/lib/python3.11/dist-packages (from requests<3.0,>=2.23->soccerdata) (3.10)\n",
            "Requirement already satisfied: urllib3<3,>=1.21.1 in /usr/local/lib/python3.11/dist-packages (from requests<3.0,>=2.23->soccerdata) (2.3.0)\n",
            "Requirement already satisfied: certifi>=2017.4.17 in /usr/local/lib/python3.11/dist-packages (from requests<3.0,>=2.23->soccerdata) (2025.1.31)\n",
            "Requirement already satisfied: markdown-it-py>=2.2.0 in /usr/local/lib/python3.11/dist-packages (from rich<14.0.0,>=13.0.0->soccerdata) (3.0.0)\n",
            "Requirement already satisfied: pygments<3.0.0,>=2.13.0 in /usr/local/lib/python3.11/dist-packages (from rich<14.0.0,>=13.0.0->soccerdata) (2.18.0)\n",
            "Requirement already satisfied: selenium>=4.9.0 in /usr/local/lib/python3.11/dist-packages (from undetected-chromedriver<4.0.0,>=3.5.0->soccerdata) (4.29.0)\n",
            "Requirement already satisfied: websockets in /usr/local/lib/python3.11/dist-packages (from undetected-chromedriver<4.0.0,>=3.5.0->soccerdata) (14.2)\n",
            "Requirement already satisfied: mdurl~=0.1 in /usr/local/lib/python3.11/dist-packages (from markdown-it-py>=2.2.0->rich<14.0.0,>=13.0.0->soccerdata) (0.1.2)\n",
            "Requirement already satisfied: trio~=0.17 in /usr/local/lib/python3.11/dist-packages (from selenium>=4.9.0->undetected-chromedriver<4.0.0,>=3.5.0->soccerdata) (0.29.0)\n",
            "Requirement already satisfied: trio-websocket~=0.9 in /usr/local/lib/python3.11/dist-packages (from selenium>=4.9.0->undetected-chromedriver<4.0.0,>=3.5.0->soccerdata) (0.12.2)\n",
            "Requirement already satisfied: typing_extensions~=4.9 in /usr/local/lib/python3.11/dist-packages (from selenium>=4.9.0->undetected-chromedriver<4.0.0,>=3.5.0->soccerdata) (4.12.2)\n",
            "Requirement already satisfied: websocket-client~=1.8 in /usr/local/lib/python3.11/dist-packages (from selenium>=4.9.0->undetected-chromedriver<4.0.0,>=3.5.0->soccerdata) (1.8.0)\n",
            "Requirement already satisfied: attrs>=23.2.0 in /usr/local/lib/python3.11/dist-packages (from trio~=0.17->selenium>=4.9.0->undetected-chromedriver<4.0.0,>=3.5.0->soccerdata) (25.1.0)\n",
            "Requirement already satisfied: sortedcontainers in /usr/local/lib/python3.11/dist-packages (from trio~=0.17->selenium>=4.9.0->undetected-chromedriver<4.0.0,>=3.5.0->soccerdata) (2.4.0)\n",
            "Requirement already satisfied: outcome in /usr/local/lib/python3.11/dist-packages (from trio~=0.17->selenium>=4.9.0->undetected-chromedriver<4.0.0,>=3.5.0->soccerdata) (1.3.0.post0)\n",
            "Requirement already satisfied: sniffio>=1.3.0 in /usr/local/lib/python3.11/dist-packages (from trio~=0.17->selenium>=4.9.0->undetected-chromedriver<4.0.0,>=3.5.0->soccerdata) (1.3.1)\n",
            "Requirement already satisfied: wsproto>=0.14 in /usr/local/lib/python3.11/dist-packages (from trio-websocket~=0.9->selenium>=4.9.0->undetected-chromedriver<4.0.0,>=3.5.0->soccerdata) (1.2.0)\n",
            "Requirement already satisfied: h11<1,>=0.9.0 in /usr/local/lib/python3.11/dist-packages (from wsproto>=0.14->trio-websocket~=0.9->selenium>=4.9.0->undetected-chromedriver<4.0.0,>=3.5.0->soccerdata) (0.14.0)\n"
          ]
        }
      ]
    },
    {
      "cell_type": "markdown",
      "source": [
        "# Load Required Libraries"
      ],
      "metadata": {
        "id": "_zbe04B_FZsP"
      }
    },
    {
      "cell_type": "code",
      "execution_count": 37,
      "metadata": {
        "id": "6npmAbRAgeZh"
      },
      "outputs": [],
      "source": [
        "import soccerdata as sd\n",
        "import pandas as pd\n",
        "import numpy as np"
      ]
    },
    {
      "cell_type": "markdown",
      "source": [
        "# Load & Standardize EPL Salaries Dataset"
      ],
      "metadata": {
        "id": "SntW0uEnFUh9"
      }
    },
    {
      "cell_type": "code",
      "source": [
        "# Load EPL Salaries dataset\n",
        "epl_salaries = pd.read_csv(\"/content/soccer_salaries.csv\")\n",
        "\n",
        "# Standardize column names\n",
        "epl_salaries.columns = epl_salaries.columns.str.strip().str.lower()\n",
        "\n",
        "# Rename 'player name' column to 'player' for merging\n",
        "epl_salaries.rename(columns={'player name': 'player'}, inplace=True)\n",
        "\n",
        "# Function to clean currency values\n",
        "def clean_currency(value):\n",
        "    if isinstance(value, str):\n",
        "        return float(value.replace(\"£\", \"\").replace(\",\", \"\").strip())  # Remove currency symbols & commas\n",
        "    return value  # If already numeric, return as is\n",
        "\n",
        "# Apply cleaning function to salary columns\n",
        "epl_salaries[\"weekly wage\"] = epl_salaries[\"weekly wage\"].apply(clean_currency)\n",
        "epl_salaries[\"yearly salary\"] = epl_salaries[\"yearly salary\"].apply(clean_currency)\n",
        "\n",
        "print(\"✅ EPL Salaries Dataset Cleaned & Standardized\")\n",
        "print(epl_salaries.head())\n"
      ],
      "metadata": {
        "colab": {
          "base_uri": "https://localhost:8080/"
        },
        "id": "P_Ku08qxCxQt",
        "outputId": "951546cb-9f61-4d3b-9a2c-a573942b9d4c"
      },
      "execution_count": 38,
      "outputs": [
        {
          "output_type": "stream",
          "name": "stdout",
          "text": [
            "✅ EPL Salaries Dataset Cleaned & Standardized\n",
            "   unnamed: 0           player  weekly wage  yearly salary  age   position  \\\n",
            "0           0             Neto     100000.0      5200000.0   33         GK   \n",
            "1           1  Dominic Solanke      72000.0      3744000.0   25         ST   \n",
            "2           2  Justin Kluivert      70000.0      3640000.0   24      AM RL   \n",
            "3           3   Philip Billing      54000.0      2808000.0   27   DM, AM C   \n",
            "4           4       Alex Scott      53000.0      2756000.0   19  DM, AM RC   \n",
            "\n",
            "   nationality             team  \n",
            "0       Brazil  afc-bournemouth  \n",
            "1      England  afc-bournemouth  \n",
            "2  Netherlands  afc-bournemouth  \n",
            "3      Denmark  afc-bournemouth  \n",
            "4      England  afc-bournemouth  \n"
          ]
        }
      ]
    },
    {
      "cell_type": "code",
      "source": [
        "epl_salaries.info()"
      ],
      "metadata": {
        "colab": {
          "base_uri": "https://localhost:8080/"
        },
        "id": "Gl6uGmheSoAz",
        "outputId": "16762b24-c7f7-45f7-c011-d5c33caf9764"
      },
      "execution_count": 39,
      "outputs": [
        {
          "output_type": "stream",
          "name": "stdout",
          "text": [
            "<class 'pandas.core.frame.DataFrame'>\n",
            "RangeIndex: 630 entries, 0 to 629\n",
            "Data columns (total 8 columns):\n",
            " #   Column         Non-Null Count  Dtype  \n",
            "---  ------         --------------  -----  \n",
            " 0   unnamed: 0     630 non-null    int64  \n",
            " 1   player         630 non-null    object \n",
            " 2   weekly wage    630 non-null    float64\n",
            " 3   yearly salary  630 non-null    float64\n",
            " 4   age            630 non-null    int64  \n",
            " 5   position       630 non-null    object \n",
            " 6   nationality    630 non-null    object \n",
            " 7   team           630 non-null    object \n",
            "dtypes: float64(2), int64(2), object(4)\n",
            "memory usage: 39.5+ KB\n"
          ]
        }
      ]
    },
    {
      "cell_type": "markdown",
      "source": [
        "# Fetch Player Stats from FBref"
      ],
      "metadata": {
        "id": "cA2wUawmFkj9"
      }
    },
    {
      "cell_type": "code",
      "source": [
        "# Initialize FBref for the English Premier League (2024 season)\n",
        "fbref = sd.FBref(leagues=\"ENG-Premier League\", seasons=2024)\n",
        "\n",
        "# Get player stats for attackers (goal & shot creation)\n",
        "player_creation_stats = fbref.read_player_season_stats(stat_type=\"goal_shot_creation\")\n",
        "\n",
        "# Get player stats for defenders (defensive actions)\n",
        "player_def_stats = fbref.read_player_season_stats(stat_type=\"defense\")\n",
        "\n",
        "# Get miscellaneous stats (includes player names)\n",
        "player_misc_stats = fbref.read_player_season_stats(stat_type=\"misc\")"
      ],
      "metadata": {
        "colab": {
          "base_uri": "https://localhost:8080/",
          "height": 477
        },
        "id": "eUQCFkc2g2VN",
        "outputId": "9ca80f24-8c7a-4bf7-db01-1ef2a90a115e"
      },
      "execution_count": 40,
      "outputs": [
        {
          "output_type": "display_data",
          "data": {
            "text/plain": [
              "\u001b[2;36m[03/14/25 15:34:21]\u001b[0m\u001b[2;36m \u001b[0m\u001b[34mINFO    \u001b[0m Saving cached data to \u001b[35m/root/soccerdata/data/\u001b[0m\u001b[95mFBref\u001b[0m                       \u001b]8;id=275870;file:///usr/local/lib/python3.11/dist-packages/soccerdata/_common.py\u001b\\\u001b[2m_common.py\u001b[0m\u001b]8;;\u001b\\\u001b[2m:\u001b[0m\u001b]8;id=758471;file:///usr/local/lib/python3.11/dist-packages/soccerdata/_common.py#263\u001b\\\u001b[2m263\u001b[0m\u001b]8;;\u001b\\\n"
            ],
            "text/html": [
              "<pre style=\"white-space:pre;overflow-x:auto;line-height:normal;font-family:Menlo,'DejaVu Sans Mono',consolas,'Courier New',monospace\"><span style=\"color: #7fbfbf; text-decoration-color: #7fbfbf\">[03/14/25 15:34:21] </span><span style=\"color: #000080; text-decoration-color: #000080\">INFO    </span> Saving cached data to <span style=\"color: #800080; text-decoration-color: #800080\">/root/soccerdata/data/</span><span style=\"color: #ff00ff; text-decoration-color: #ff00ff\">FBref</span>                       <a href=\"file:///usr/local/lib/python3.11/dist-packages/soccerdata/_common.py\" target=\"_blank\"><span style=\"color: #7f7f7f; text-decoration-color: #7f7f7f\">_common.py</span></a><span style=\"color: #7f7f7f; text-decoration-color: #7f7f7f\">:</span><a href=\"file:///usr/local/lib/python3.11/dist-packages/soccerdata/_common.py#263\" target=\"_blank\"><span style=\"color: #7f7f7f; text-decoration-color: #7f7f7f\">263</span></a>\n",
              "</pre>\n"
            ]
          },
          "metadata": {}
        },
        {
          "output_type": "display_data",
          "data": {
            "text/plain": [
              "\u001b[2;36m[03/14/25 15:34:22]\u001b[0m\u001b[2;36m \u001b[0m\u001b[33mWARNING \u001b[0m \u001b[35m/usr/local/lib/python3.11/dist-packages/soccerdata/\u001b[0m\u001b[95mfbref.py\u001b[0m:\u001b[1;36m165\u001b[0m:       \u001b]8;id=459506;file:///usr/lib/python3.11/warnings.py\u001b\\\u001b[2mwarnings.py\u001b[0m\u001b]8;;\u001b\\\u001b[2m:\u001b[0m\u001b]8;id=365730;file:///usr/lib/python3.11/warnings.py#110\u001b\\\u001b[2m110\u001b[0m\u001b]8;;\u001b\\\n",
              "\u001b[2;36m                    \u001b[0m         FutureWarning: The behavior of DataFrame concatenation with empty or   \u001b[2m               \u001b[0m\n",
              "\u001b[2;36m                    \u001b[0m         all-NA entries is deprecated. In a future version, this will no longer \u001b[2m               \u001b[0m\n",
              "\u001b[2;36m                    \u001b[0m         exclude empty or all-NA columns when determining the result dtypes. To \u001b[2m               \u001b[0m\n",
              "\u001b[2;36m                    \u001b[0m         retain the old behavior, exclude the relevant entries before the       \u001b[2m               \u001b[0m\n",
              "\u001b[2;36m                    \u001b[0m         concat operation.                                                      \u001b[2m               \u001b[0m\n",
              "\u001b[2;36m                    \u001b[0m           \u001b[1;35mpd.concat\u001b[0m\u001b[1m(\u001b[0mdfs\u001b[1m)\u001b[0m                                                       \u001b[2m               \u001b[0m\n",
              "\u001b[2;36m                    \u001b[0m                                                                                \u001b[2m               \u001b[0m\n"
            ],
            "text/html": [
              "<pre style=\"white-space:pre;overflow-x:auto;line-height:normal;font-family:Menlo,'DejaVu Sans Mono',consolas,'Courier New',monospace\"><span style=\"color: #7fbfbf; text-decoration-color: #7fbfbf\">[03/14/25 15:34:22] </span><span style=\"color: #808000; text-decoration-color: #808000\">WARNING </span> <span style=\"color: #800080; text-decoration-color: #800080\">/usr/local/lib/python3.11/dist-packages/soccerdata/</span><span style=\"color: #ff00ff; text-decoration-color: #ff00ff\">fbref.py</span>:<span style=\"color: #008080; text-decoration-color: #008080; font-weight: bold\">165</span>:       <a href=\"file:///usr/lib/python3.11/warnings.py\" target=\"_blank\"><span style=\"color: #7f7f7f; text-decoration-color: #7f7f7f\">warnings.py</span></a><span style=\"color: #7f7f7f; text-decoration-color: #7f7f7f\">:</span><a href=\"file:///usr/lib/python3.11/warnings.py#110\" target=\"_blank\"><span style=\"color: #7f7f7f; text-decoration-color: #7f7f7f\">110</span></a>\n",
              "<span style=\"color: #7fbfbf; text-decoration-color: #7fbfbf\">                    </span>         FutureWarning: The behavior of DataFrame concatenation with empty or   <span style=\"color: #7f7f7f; text-decoration-color: #7f7f7f\">               </span>\n",
              "<span style=\"color: #7fbfbf; text-decoration-color: #7fbfbf\">                    </span>         all-NA entries is deprecated. In a future version, this will no longer <span style=\"color: #7f7f7f; text-decoration-color: #7f7f7f\">               </span>\n",
              "<span style=\"color: #7fbfbf; text-decoration-color: #7fbfbf\">                    </span>         exclude empty or all-NA columns when determining the result dtypes. To <span style=\"color: #7f7f7f; text-decoration-color: #7f7f7f\">               </span>\n",
              "<span style=\"color: #7fbfbf; text-decoration-color: #7fbfbf\">                    </span>         retain the old behavior, exclude the relevant entries before the       <span style=\"color: #7f7f7f; text-decoration-color: #7f7f7f\">               </span>\n",
              "<span style=\"color: #7fbfbf; text-decoration-color: #7fbfbf\">                    </span>         concat operation.                                                      <span style=\"color: #7f7f7f; text-decoration-color: #7f7f7f\">               </span>\n",
              "<span style=\"color: #7fbfbf; text-decoration-color: #7fbfbf\">                    </span>           <span style=\"color: #800080; text-decoration-color: #800080; font-weight: bold\">pd.concat</span><span style=\"font-weight: bold\">(</span>dfs<span style=\"font-weight: bold\">)</span>                                                       <span style=\"color: #7f7f7f; text-decoration-color: #7f7f7f\">               </span>\n",
              "<span style=\"color: #7fbfbf; text-decoration-color: #7fbfbf\">                    </span>                                                                                <span style=\"color: #7f7f7f; text-decoration-color: #7f7f7f\">               </span>\n",
              "</pre>\n"
            ]
          },
          "metadata": {}
        },
        {
          "output_type": "display_data",
          "data": {
            "text/plain": [
              "\u001b[2;36m                   \u001b[0m\u001b[2;36m \u001b[0m\u001b[33mWARNING \u001b[0m \u001b[35m/usr/local/lib/python3.11/dist-packages/soccerdata/\u001b[0m\u001b[95mfbref.py\u001b[0m:\u001b[1;36m165\u001b[0m:       \u001b]8;id=909109;file:///usr/lib/python3.11/warnings.py\u001b\\\u001b[2mwarnings.py\u001b[0m\u001b]8;;\u001b\\\u001b[2m:\u001b[0m\u001b]8;id=86153;file:///usr/lib/python3.11/warnings.py#110\u001b\\\u001b[2m110\u001b[0m\u001b]8;;\u001b\\\n",
              "\u001b[2;36m                    \u001b[0m         FutureWarning: The behavior of DataFrame concatenation with empty or   \u001b[2m               \u001b[0m\n",
              "\u001b[2;36m                    \u001b[0m         all-NA entries is deprecated. In a future version, this will no longer \u001b[2m               \u001b[0m\n",
              "\u001b[2;36m                    \u001b[0m         exclude empty or all-NA columns when determining the result dtypes. To \u001b[2m               \u001b[0m\n",
              "\u001b[2;36m                    \u001b[0m         retain the old behavior, exclude the relevant entries before the       \u001b[2m               \u001b[0m\n",
              "\u001b[2;36m                    \u001b[0m         concat operation.                                                      \u001b[2m               \u001b[0m\n",
              "\u001b[2;36m                    \u001b[0m           \u001b[1;35mpd.concat\u001b[0m\u001b[1m(\u001b[0mdfs\u001b[1m)\u001b[0m                                                       \u001b[2m               \u001b[0m\n",
              "\u001b[2;36m                    \u001b[0m                                                                                \u001b[2m               \u001b[0m\n"
            ],
            "text/html": [
              "<pre style=\"white-space:pre;overflow-x:auto;line-height:normal;font-family:Menlo,'DejaVu Sans Mono',consolas,'Courier New',monospace\"><span style=\"color: #7fbfbf; text-decoration-color: #7fbfbf\">                    </span><span style=\"color: #808000; text-decoration-color: #808000\">WARNING </span> <span style=\"color: #800080; text-decoration-color: #800080\">/usr/local/lib/python3.11/dist-packages/soccerdata/</span><span style=\"color: #ff00ff; text-decoration-color: #ff00ff\">fbref.py</span>:<span style=\"color: #008080; text-decoration-color: #008080; font-weight: bold\">165</span>:       <a href=\"file:///usr/lib/python3.11/warnings.py\" target=\"_blank\"><span style=\"color: #7f7f7f; text-decoration-color: #7f7f7f\">warnings.py</span></a><span style=\"color: #7f7f7f; text-decoration-color: #7f7f7f\">:</span><a href=\"file:///usr/lib/python3.11/warnings.py#110\" target=\"_blank\"><span style=\"color: #7f7f7f; text-decoration-color: #7f7f7f\">110</span></a>\n",
              "<span style=\"color: #7fbfbf; text-decoration-color: #7fbfbf\">                    </span>         FutureWarning: The behavior of DataFrame concatenation with empty or   <span style=\"color: #7f7f7f; text-decoration-color: #7f7f7f\">               </span>\n",
              "<span style=\"color: #7fbfbf; text-decoration-color: #7fbfbf\">                    </span>         all-NA entries is deprecated. In a future version, this will no longer <span style=\"color: #7f7f7f; text-decoration-color: #7f7f7f\">               </span>\n",
              "<span style=\"color: #7fbfbf; text-decoration-color: #7fbfbf\">                    </span>         exclude empty or all-NA columns when determining the result dtypes. To <span style=\"color: #7f7f7f; text-decoration-color: #7f7f7f\">               </span>\n",
              "<span style=\"color: #7fbfbf; text-decoration-color: #7fbfbf\">                    </span>         retain the old behavior, exclude the relevant entries before the       <span style=\"color: #7f7f7f; text-decoration-color: #7f7f7f\">               </span>\n",
              "<span style=\"color: #7fbfbf; text-decoration-color: #7fbfbf\">                    </span>         concat operation.                                                      <span style=\"color: #7f7f7f; text-decoration-color: #7f7f7f\">               </span>\n",
              "<span style=\"color: #7fbfbf; text-decoration-color: #7fbfbf\">                    </span>           <span style=\"color: #800080; text-decoration-color: #800080; font-weight: bold\">pd.concat</span><span style=\"font-weight: bold\">(</span>dfs<span style=\"font-weight: bold\">)</span>                                                       <span style=\"color: #7f7f7f; text-decoration-color: #7f7f7f\">               </span>\n",
              "<span style=\"color: #7fbfbf; text-decoration-color: #7fbfbf\">                    </span>                                                                                <span style=\"color: #7f7f7f; text-decoration-color: #7f7f7f\">               </span>\n",
              "</pre>\n"
            ]
          },
          "metadata": {}
        },
        {
          "output_type": "display_data",
          "data": {
            "text/plain": [
              "\u001b[2;36m[03/14/25 15:34:23]\u001b[0m\u001b[2;36m \u001b[0m\u001b[33mWARNING \u001b[0m \u001b[35m/usr/local/lib/python3.11/dist-packages/soccerdata/\u001b[0m\u001b[95mfbref.py\u001b[0m:\u001b[1;36m165\u001b[0m:       \u001b]8;id=786393;file:///usr/lib/python3.11/warnings.py\u001b\\\u001b[2mwarnings.py\u001b[0m\u001b]8;;\u001b\\\u001b[2m:\u001b[0m\u001b]8;id=350361;file:///usr/lib/python3.11/warnings.py#110\u001b\\\u001b[2m110\u001b[0m\u001b]8;;\u001b\\\n",
              "\u001b[2;36m                    \u001b[0m         FutureWarning: The behavior of DataFrame concatenation with empty or   \u001b[2m               \u001b[0m\n",
              "\u001b[2;36m                    \u001b[0m         all-NA entries is deprecated. In a future version, this will no longer \u001b[2m               \u001b[0m\n",
              "\u001b[2;36m                    \u001b[0m         exclude empty or all-NA columns when determining the result dtypes. To \u001b[2m               \u001b[0m\n",
              "\u001b[2;36m                    \u001b[0m         retain the old behavior, exclude the relevant entries before the       \u001b[2m               \u001b[0m\n",
              "\u001b[2;36m                    \u001b[0m         concat operation.                                                      \u001b[2m               \u001b[0m\n",
              "\u001b[2;36m                    \u001b[0m           \u001b[1;35mpd.concat\u001b[0m\u001b[1m(\u001b[0mdfs\u001b[1m)\u001b[0m                                                       \u001b[2m               \u001b[0m\n",
              "\u001b[2;36m                    \u001b[0m                                                                                \u001b[2m               \u001b[0m\n"
            ],
            "text/html": [
              "<pre style=\"white-space:pre;overflow-x:auto;line-height:normal;font-family:Menlo,'DejaVu Sans Mono',consolas,'Courier New',monospace\"><span style=\"color: #7fbfbf; text-decoration-color: #7fbfbf\">[03/14/25 15:34:23] </span><span style=\"color: #808000; text-decoration-color: #808000\">WARNING </span> <span style=\"color: #800080; text-decoration-color: #800080\">/usr/local/lib/python3.11/dist-packages/soccerdata/</span><span style=\"color: #ff00ff; text-decoration-color: #ff00ff\">fbref.py</span>:<span style=\"color: #008080; text-decoration-color: #008080; font-weight: bold\">165</span>:       <a href=\"file:///usr/lib/python3.11/warnings.py\" target=\"_blank\"><span style=\"color: #7f7f7f; text-decoration-color: #7f7f7f\">warnings.py</span></a><span style=\"color: #7f7f7f; text-decoration-color: #7f7f7f\">:</span><a href=\"file:///usr/lib/python3.11/warnings.py#110\" target=\"_blank\"><span style=\"color: #7f7f7f; text-decoration-color: #7f7f7f\">110</span></a>\n",
              "<span style=\"color: #7fbfbf; text-decoration-color: #7fbfbf\">                    </span>         FutureWarning: The behavior of DataFrame concatenation with empty or   <span style=\"color: #7f7f7f; text-decoration-color: #7f7f7f\">               </span>\n",
              "<span style=\"color: #7fbfbf; text-decoration-color: #7fbfbf\">                    </span>         all-NA entries is deprecated. In a future version, this will no longer <span style=\"color: #7f7f7f; text-decoration-color: #7f7f7f\">               </span>\n",
              "<span style=\"color: #7fbfbf; text-decoration-color: #7fbfbf\">                    </span>         exclude empty or all-NA columns when determining the result dtypes. To <span style=\"color: #7f7f7f; text-decoration-color: #7f7f7f\">               </span>\n",
              "<span style=\"color: #7fbfbf; text-decoration-color: #7fbfbf\">                    </span>         retain the old behavior, exclude the relevant entries before the       <span style=\"color: #7f7f7f; text-decoration-color: #7f7f7f\">               </span>\n",
              "<span style=\"color: #7fbfbf; text-decoration-color: #7fbfbf\">                    </span>         concat operation.                                                      <span style=\"color: #7f7f7f; text-decoration-color: #7f7f7f\">               </span>\n",
              "<span style=\"color: #7fbfbf; text-decoration-color: #7fbfbf\">                    </span>           <span style=\"color: #800080; text-decoration-color: #800080; font-weight: bold\">pd.concat</span><span style=\"font-weight: bold\">(</span>dfs<span style=\"font-weight: bold\">)</span>                                                       <span style=\"color: #7f7f7f; text-decoration-color: #7f7f7f\">               </span>\n",
              "<span style=\"color: #7fbfbf; text-decoration-color: #7fbfbf\">                    </span>                                                                                <span style=\"color: #7f7f7f; text-decoration-color: #7f7f7f\">               </span>\n",
              "</pre>\n"
            ]
          },
          "metadata": {}
        }
      ]
    },
    {
      "cell_type": "markdown",
      "source": [
        "# Clean & Standarize Data"
      ],
      "metadata": {
        "id": "RYCHS24qFqAW"
      }
    },
    {
      "cell_type": "code",
      "source": [
        "# Flatten MultiIndex columns (if necessary)\n",
        "for df in [player_creation_stats, player_def_stats, player_misc_stats]:\n",
        "    if isinstance(df.columns, pd.MultiIndex):\n",
        "        df.columns = [\"_\".join(col).strip() if col[1] else col[0] for col in df.columns]\n",
        "\n",
        "# Convert 'age' to numeric, forcing non-numeric values to NaN\n",
        "for df in [player_creation_stats, player_def_stats]:\n",
        "    df['age'] = pd.to_numeric(df['age'], errors='coerce')\n",
        "\n",
        "# Compute median safely (only if there are valid values)\n",
        "for df in [player_creation_stats, player_def_stats]:\n",
        "    median_age = df['age'].median()  # Compute median\n",
        "    if pd.isna(median_age):  # If the median is NaN, use a default value\n",
        "        median_age = 25  # You can change this default value as needed\n",
        "\n",
        "    df['age'].fillna(int(median_age), inplace=True)  # Fill NaN with median\n",
        "    df['age'] = df['age'].astype(int)  # Convert final values to integer"
      ],
      "metadata": {
        "colab": {
          "base_uri": "https://localhost:8080/",
          "height": 685
        },
        "id": "XwaYglj20hsx",
        "outputId": "7c7d2b73-4a54-483d-9664-8795c6b39cb9"
      },
      "execution_count": 41,
      "outputs": [
        {
          "output_type": "display_data",
          "data": {
            "text/plain": [
              "\u001b[2;36m                   \u001b[0m\u001b[2;36m \u001b[0m\u001b[33mWARNING \u001b[0m \u001b[35m/usr/local/lib/python3.11/dist-packages/numpy/lib/\u001b[0m\u001b[95mnanfunctions.py\u001b[0m:\u001b[1;36m1215\u001b[0m \u001b]8;id=765127;file:///usr/lib/python3.11/warnings.py\u001b\\\u001b[2mwarnings.py\u001b[0m\u001b]8;;\u001b\\\u001b[2m:\u001b[0m\u001b]8;id=703128;file:///usr/lib/python3.11/warnings.py#110\u001b\\\u001b[2m110\u001b[0m\u001b]8;;\u001b\\\n",
              "\u001b[2;36m                    \u001b[0m         : RuntimeWarning: Mean of empty slice                                  \u001b[2m               \u001b[0m\n",
              "\u001b[2;36m                    \u001b[0m           return \u001b[1;35mnp.nanmean\u001b[0m\u001b[1m(\u001b[0ma, axis, \u001b[33mout\u001b[0m=\u001b[35mout\u001b[0m, \u001b[33mkeepdims\u001b[0m=\u001b[35mkeepdims\u001b[0m\u001b[1m)\u001b[0m               \u001b[2m               \u001b[0m\n",
              "\u001b[2;36m                    \u001b[0m                                                                                \u001b[2m               \u001b[0m\n"
            ],
            "text/html": [
              "<pre style=\"white-space:pre;overflow-x:auto;line-height:normal;font-family:Menlo,'DejaVu Sans Mono',consolas,'Courier New',monospace\"><span style=\"color: #7fbfbf; text-decoration-color: #7fbfbf\">                    </span><span style=\"color: #808000; text-decoration-color: #808000\">WARNING </span> <span style=\"color: #800080; text-decoration-color: #800080\">/usr/local/lib/python3.11/dist-packages/numpy/lib/</span><span style=\"color: #ff00ff; text-decoration-color: #ff00ff\">nanfunctions.py</span>:<span style=\"color: #008080; text-decoration-color: #008080; font-weight: bold\">1215</span> <a href=\"file:///usr/lib/python3.11/warnings.py\" target=\"_blank\"><span style=\"color: #7f7f7f; text-decoration-color: #7f7f7f\">warnings.py</span></a><span style=\"color: #7f7f7f; text-decoration-color: #7f7f7f\">:</span><a href=\"file:///usr/lib/python3.11/warnings.py#110\" target=\"_blank\"><span style=\"color: #7f7f7f; text-decoration-color: #7f7f7f\">110</span></a>\n",
              "<span style=\"color: #7fbfbf; text-decoration-color: #7fbfbf\">                    </span>         : RuntimeWarning: Mean of empty slice                                  <span style=\"color: #7f7f7f; text-decoration-color: #7f7f7f\">               </span>\n",
              "<span style=\"color: #7fbfbf; text-decoration-color: #7fbfbf\">                    </span>           return <span style=\"color: #800080; text-decoration-color: #800080; font-weight: bold\">np.nanmean</span><span style=\"font-weight: bold\">(</span>a, axis, <span style=\"color: #808000; text-decoration-color: #808000\">out</span>=<span style=\"color: #800080; text-decoration-color: #800080\">out</span>, <span style=\"color: #808000; text-decoration-color: #808000\">keepdims</span>=<span style=\"color: #800080; text-decoration-color: #800080\">keepdims</span><span style=\"font-weight: bold\">)</span>               <span style=\"color: #7f7f7f; text-decoration-color: #7f7f7f\">               </span>\n",
              "<span style=\"color: #7fbfbf; text-decoration-color: #7fbfbf\">                    </span>                                                                                <span style=\"color: #7f7f7f; text-decoration-color: #7f7f7f\">               </span>\n",
              "</pre>\n"
            ]
          },
          "metadata": {}
        },
        {
          "output_type": "display_data",
          "data": {
            "text/plain": [
              "\u001b[2;36m                   \u001b[0m\u001b[2;36m \u001b[0m\u001b[33mWARNING \u001b[0m \u001b[1m<\u001b[0m\u001b[1;95mipython-input-\u001b[0m\u001b[1;36m41\u001b[0m\u001b[1;95m-7188a4f3dba1\u001b[0m\u001b[1m>\u001b[0m:\u001b[1;36m16\u001b[0m: FutureWarning: A value is trying   \u001b]8;id=146029;file:///usr/lib/python3.11/warnings.py\u001b\\\u001b[2mwarnings.py\u001b[0m\u001b]8;;\u001b\\\u001b[2m:\u001b[0m\u001b]8;id=545090;file:///usr/lib/python3.11/warnings.py#110\u001b\\\u001b[2m110\u001b[0m\u001b]8;;\u001b\\\n",
              "\u001b[2;36m                    \u001b[0m         to be set on a copy of a DataFrame or Series through chained           \u001b[2m               \u001b[0m\n",
              "\u001b[2;36m                    \u001b[0m         assignment using an inplace method.                                    \u001b[2m               \u001b[0m\n",
              "\u001b[2;36m                    \u001b[0m         The behavior will change in pandas \u001b[1;36m3.0\u001b[0m. This inplace method will never \u001b[2m               \u001b[0m\n",
              "\u001b[2;36m                    \u001b[0m         work because the intermediate object on which we are setting values    \u001b[2m               \u001b[0m\n",
              "\u001b[2;36m                    \u001b[0m         always behaves as a copy.                                              \u001b[2m               \u001b[0m\n",
              "\u001b[2;36m                    \u001b[0m                                                                                \u001b[2m               \u001b[0m\n",
              "\u001b[2;36m                    \u001b[0m         For example, when doing \u001b[32m'df\u001b[0m\u001b[32m.method\u001b[0m\u001b[32m(\u001b[0m\u001b[32mvalue, \u001b[0m\u001b[32minplace\u001b[0m\u001b[32m=\u001b[0m\u001b[32mTrue\u001b[0m\u001b[32m)\u001b[0m\u001b[32m'\u001b[0m, try using    \u001b[2m               \u001b[0m\n",
              "\u001b[2;36m                    \u001b[0m         \u001b[32m'df.method\u001b[0m\u001b[32m(\u001b[0m\u001b[32m{\u001b[0m\u001b[32mcol: value\u001b[0m\u001b[32m}\u001b[0m\u001b[32m, \u001b[0m\u001b[32minplace\u001b[0m\u001b[32m=\u001b[0m\u001b[32mTrue\u001b[0m\u001b[32m)\u001b[0m\u001b[32m'\u001b[0m or df = \u001b[1;35mdf\u001b[0m\u001b[1;35m.method\u001b[0m\u001b[1m(\u001b[0mvalue\u001b[1m)\u001b[0m       \u001b[2m               \u001b[0m\n",
              "\u001b[2;36m                    \u001b[0m         instead, to perform the operation inplace on the original object.      \u001b[2m               \u001b[0m\n",
              "\u001b[2;36m                    \u001b[0m                                                                                \u001b[2m               \u001b[0m\n",
              "\u001b[2;36m                    \u001b[0m                                                                                \u001b[2m               \u001b[0m\n",
              "\u001b[2;36m                    \u001b[0m           df\u001b[1m[\u001b[0m\u001b[32m'age'\u001b[0m\u001b[1m]\u001b[0m\u001b[1;35m.fillna\u001b[0m\u001b[1m(\u001b[0m\u001b[1;35mint\u001b[0m\u001b[1m(\u001b[0mmedian_age\u001b[1m)\u001b[0m, \u001b[33minplace\u001b[0m=\u001b[3;92mTrue\u001b[0m\u001b[1m)\u001b[0m  # Fill NaN with     \u001b[2m               \u001b[0m\n",
              "\u001b[2;36m                    \u001b[0m         median                                                                 \u001b[2m               \u001b[0m\n",
              "\u001b[2;36m                    \u001b[0m                                                                                \u001b[2m               \u001b[0m\n"
            ],
            "text/html": [
              "<pre style=\"white-space:pre;overflow-x:auto;line-height:normal;font-family:Menlo,'DejaVu Sans Mono',consolas,'Courier New',monospace\"><span style=\"color: #7fbfbf; text-decoration-color: #7fbfbf\">                    </span><span style=\"color: #808000; text-decoration-color: #808000\">WARNING </span> <span style=\"font-weight: bold\">&lt;</span><span style=\"color: #ff00ff; text-decoration-color: #ff00ff; font-weight: bold\">ipython-input-</span><span style=\"color: #008080; text-decoration-color: #008080; font-weight: bold\">41</span><span style=\"color: #ff00ff; text-decoration-color: #ff00ff; font-weight: bold\">-7188a4f3dba1</span><span style=\"font-weight: bold\">&gt;</span>:<span style=\"color: #008080; text-decoration-color: #008080; font-weight: bold\">16</span>: FutureWarning: A value is trying   <a href=\"file:///usr/lib/python3.11/warnings.py\" target=\"_blank\"><span style=\"color: #7f7f7f; text-decoration-color: #7f7f7f\">warnings.py</span></a><span style=\"color: #7f7f7f; text-decoration-color: #7f7f7f\">:</span><a href=\"file:///usr/lib/python3.11/warnings.py#110\" target=\"_blank\"><span style=\"color: #7f7f7f; text-decoration-color: #7f7f7f\">110</span></a>\n",
              "<span style=\"color: #7fbfbf; text-decoration-color: #7fbfbf\">                    </span>         to be set on a copy of a DataFrame or Series through chained           <span style=\"color: #7f7f7f; text-decoration-color: #7f7f7f\">               </span>\n",
              "<span style=\"color: #7fbfbf; text-decoration-color: #7fbfbf\">                    </span>         assignment using an inplace method.                                    <span style=\"color: #7f7f7f; text-decoration-color: #7f7f7f\">               </span>\n",
              "<span style=\"color: #7fbfbf; text-decoration-color: #7fbfbf\">                    </span>         The behavior will change in pandas <span style=\"color: #008080; text-decoration-color: #008080; font-weight: bold\">3.0</span>. This inplace method will never <span style=\"color: #7f7f7f; text-decoration-color: #7f7f7f\">               </span>\n",
              "<span style=\"color: #7fbfbf; text-decoration-color: #7fbfbf\">                    </span>         work because the intermediate object on which we are setting values    <span style=\"color: #7f7f7f; text-decoration-color: #7f7f7f\">               </span>\n",
              "<span style=\"color: #7fbfbf; text-decoration-color: #7fbfbf\">                    </span>         always behaves as a copy.                                              <span style=\"color: #7f7f7f; text-decoration-color: #7f7f7f\">               </span>\n",
              "<span style=\"color: #7fbfbf; text-decoration-color: #7fbfbf\">                    </span>                                                                                <span style=\"color: #7f7f7f; text-decoration-color: #7f7f7f\">               </span>\n",
              "<span style=\"color: #7fbfbf; text-decoration-color: #7fbfbf\">                    </span>         For example, when doing <span style=\"color: #008000; text-decoration-color: #008000\">'df.method(value, inplace=True)'</span>, try using    <span style=\"color: #7f7f7f; text-decoration-color: #7f7f7f\">               </span>\n",
              "<span style=\"color: #7fbfbf; text-decoration-color: #7fbfbf\">                    </span>         <span style=\"color: #008000; text-decoration-color: #008000\">'df.method({col: value}, inplace=True)'</span> or df = <span style=\"color: #800080; text-decoration-color: #800080; font-weight: bold\">df.method</span><span style=\"font-weight: bold\">(</span>value<span style=\"font-weight: bold\">)</span>       <span style=\"color: #7f7f7f; text-decoration-color: #7f7f7f\">               </span>\n",
              "<span style=\"color: #7fbfbf; text-decoration-color: #7fbfbf\">                    </span>         instead, to perform the operation inplace on the original object.      <span style=\"color: #7f7f7f; text-decoration-color: #7f7f7f\">               </span>\n",
              "<span style=\"color: #7fbfbf; text-decoration-color: #7fbfbf\">                    </span>                                                                                <span style=\"color: #7f7f7f; text-decoration-color: #7f7f7f\">               </span>\n",
              "<span style=\"color: #7fbfbf; text-decoration-color: #7fbfbf\">                    </span>                                                                                <span style=\"color: #7f7f7f; text-decoration-color: #7f7f7f\">               </span>\n",
              "<span style=\"color: #7fbfbf; text-decoration-color: #7fbfbf\">                    </span>           df<span style=\"font-weight: bold\">[</span><span style=\"color: #008000; text-decoration-color: #008000\">'age'</span><span style=\"font-weight: bold\">]</span><span style=\"color: #800080; text-decoration-color: #800080; font-weight: bold\">.fillna</span><span style=\"font-weight: bold\">(</span><span style=\"color: #800080; text-decoration-color: #800080; font-weight: bold\">int</span><span style=\"font-weight: bold\">(</span>median_age<span style=\"font-weight: bold\">)</span>, <span style=\"color: #808000; text-decoration-color: #808000\">inplace</span>=<span style=\"color: #00ff00; text-decoration-color: #00ff00; font-style: italic\">True</span><span style=\"font-weight: bold\">)</span>  # Fill NaN with     <span style=\"color: #7f7f7f; text-decoration-color: #7f7f7f\">               </span>\n",
              "<span style=\"color: #7fbfbf; text-decoration-color: #7fbfbf\">                    </span>         median                                                                 <span style=\"color: #7f7f7f; text-decoration-color: #7f7f7f\">               </span>\n",
              "<span style=\"color: #7fbfbf; text-decoration-color: #7fbfbf\">                    </span>                                                                                <span style=\"color: #7f7f7f; text-decoration-color: #7f7f7f\">               </span>\n",
              "</pre>\n"
            ]
          },
          "metadata": {}
        },
        {
          "output_type": "display_data",
          "data": {
            "text/plain": [
              "\u001b[2;36m[03/14/25 15:34:24]\u001b[0m\u001b[2;36m \u001b[0m\u001b[33mWARNING \u001b[0m \u001b[35m/usr/local/lib/python3.11/dist-packages/numpy/lib/\u001b[0m\u001b[95mnanfunctions.py\u001b[0m:\u001b[1;36m1215\u001b[0m \u001b]8;id=279345;file:///usr/lib/python3.11/warnings.py\u001b\\\u001b[2mwarnings.py\u001b[0m\u001b]8;;\u001b\\\u001b[2m:\u001b[0m\u001b]8;id=71182;file:///usr/lib/python3.11/warnings.py#110\u001b\\\u001b[2m110\u001b[0m\u001b]8;;\u001b\\\n",
              "\u001b[2;36m                    \u001b[0m         : RuntimeWarning: Mean of empty slice                                  \u001b[2m               \u001b[0m\n",
              "\u001b[2;36m                    \u001b[0m           return \u001b[1;35mnp.nanmean\u001b[0m\u001b[1m(\u001b[0ma, axis, \u001b[33mout\u001b[0m=\u001b[35mout\u001b[0m, \u001b[33mkeepdims\u001b[0m=\u001b[35mkeepdims\u001b[0m\u001b[1m)\u001b[0m               \u001b[2m               \u001b[0m\n",
              "\u001b[2;36m                    \u001b[0m                                                                                \u001b[2m               \u001b[0m\n"
            ],
            "text/html": [
              "<pre style=\"white-space:pre;overflow-x:auto;line-height:normal;font-family:Menlo,'DejaVu Sans Mono',consolas,'Courier New',monospace\"><span style=\"color: #7fbfbf; text-decoration-color: #7fbfbf\">[03/14/25 15:34:24] </span><span style=\"color: #808000; text-decoration-color: #808000\">WARNING </span> <span style=\"color: #800080; text-decoration-color: #800080\">/usr/local/lib/python3.11/dist-packages/numpy/lib/</span><span style=\"color: #ff00ff; text-decoration-color: #ff00ff\">nanfunctions.py</span>:<span style=\"color: #008080; text-decoration-color: #008080; font-weight: bold\">1215</span> <a href=\"file:///usr/lib/python3.11/warnings.py\" target=\"_blank\"><span style=\"color: #7f7f7f; text-decoration-color: #7f7f7f\">warnings.py</span></a><span style=\"color: #7f7f7f; text-decoration-color: #7f7f7f\">:</span><a href=\"file:///usr/lib/python3.11/warnings.py#110\" target=\"_blank\"><span style=\"color: #7f7f7f; text-decoration-color: #7f7f7f\">110</span></a>\n",
              "<span style=\"color: #7fbfbf; text-decoration-color: #7fbfbf\">                    </span>         : RuntimeWarning: Mean of empty slice                                  <span style=\"color: #7f7f7f; text-decoration-color: #7f7f7f\">               </span>\n",
              "<span style=\"color: #7fbfbf; text-decoration-color: #7fbfbf\">                    </span>           return <span style=\"color: #800080; text-decoration-color: #800080; font-weight: bold\">np.nanmean</span><span style=\"font-weight: bold\">(</span>a, axis, <span style=\"color: #808000; text-decoration-color: #808000\">out</span>=<span style=\"color: #800080; text-decoration-color: #800080\">out</span>, <span style=\"color: #808000; text-decoration-color: #808000\">keepdims</span>=<span style=\"color: #800080; text-decoration-color: #800080\">keepdims</span><span style=\"font-weight: bold\">)</span>               <span style=\"color: #7f7f7f; text-decoration-color: #7f7f7f\">               </span>\n",
              "<span style=\"color: #7fbfbf; text-decoration-color: #7fbfbf\">                    </span>                                                                                <span style=\"color: #7f7f7f; text-decoration-color: #7f7f7f\">               </span>\n",
              "</pre>\n"
            ]
          },
          "metadata": {}
        },
        {
          "output_type": "display_data",
          "data": {
            "text/plain": [
              "\u001b[2;36m                   \u001b[0m\u001b[2;36m \u001b[0m\u001b[33mWARNING \u001b[0m \u001b[1m<\u001b[0m\u001b[1;95mipython-input-\u001b[0m\u001b[1;36m41\u001b[0m\u001b[1;95m-7188a4f3dba1\u001b[0m\u001b[1m>\u001b[0m:\u001b[1;36m16\u001b[0m: FutureWarning: A value is trying   \u001b]8;id=532229;file:///usr/lib/python3.11/warnings.py\u001b\\\u001b[2mwarnings.py\u001b[0m\u001b]8;;\u001b\\\u001b[2m:\u001b[0m\u001b]8;id=147894;file:///usr/lib/python3.11/warnings.py#110\u001b\\\u001b[2m110\u001b[0m\u001b]8;;\u001b\\\n",
              "\u001b[2;36m                    \u001b[0m         to be set on a copy of a DataFrame or Series through chained           \u001b[2m               \u001b[0m\n",
              "\u001b[2;36m                    \u001b[0m         assignment using an inplace method.                                    \u001b[2m               \u001b[0m\n",
              "\u001b[2;36m                    \u001b[0m         The behavior will change in pandas \u001b[1;36m3.0\u001b[0m. This inplace method will never \u001b[2m               \u001b[0m\n",
              "\u001b[2;36m                    \u001b[0m         work because the intermediate object on which we are setting values    \u001b[2m               \u001b[0m\n",
              "\u001b[2;36m                    \u001b[0m         always behaves as a copy.                                              \u001b[2m               \u001b[0m\n",
              "\u001b[2;36m                    \u001b[0m                                                                                \u001b[2m               \u001b[0m\n",
              "\u001b[2;36m                    \u001b[0m         For example, when doing \u001b[32m'df\u001b[0m\u001b[32m.method\u001b[0m\u001b[32m(\u001b[0m\u001b[32mvalue, \u001b[0m\u001b[32minplace\u001b[0m\u001b[32m=\u001b[0m\u001b[32mTrue\u001b[0m\u001b[32m)\u001b[0m\u001b[32m'\u001b[0m, try using    \u001b[2m               \u001b[0m\n",
              "\u001b[2;36m                    \u001b[0m         \u001b[32m'df.method\u001b[0m\u001b[32m(\u001b[0m\u001b[32m{\u001b[0m\u001b[32mcol: value\u001b[0m\u001b[32m}\u001b[0m\u001b[32m, \u001b[0m\u001b[32minplace\u001b[0m\u001b[32m=\u001b[0m\u001b[32mTrue\u001b[0m\u001b[32m)\u001b[0m\u001b[32m'\u001b[0m or df = \u001b[1;35mdf\u001b[0m\u001b[1;35m.method\u001b[0m\u001b[1m(\u001b[0mvalue\u001b[1m)\u001b[0m       \u001b[2m               \u001b[0m\n",
              "\u001b[2;36m                    \u001b[0m         instead, to perform the operation inplace on the original object.      \u001b[2m               \u001b[0m\n",
              "\u001b[2;36m                    \u001b[0m                                                                                \u001b[2m               \u001b[0m\n",
              "\u001b[2;36m                    \u001b[0m                                                                                \u001b[2m               \u001b[0m\n",
              "\u001b[2;36m                    \u001b[0m           df\u001b[1m[\u001b[0m\u001b[32m'age'\u001b[0m\u001b[1m]\u001b[0m\u001b[1;35m.fillna\u001b[0m\u001b[1m(\u001b[0m\u001b[1;35mint\u001b[0m\u001b[1m(\u001b[0mmedian_age\u001b[1m)\u001b[0m, \u001b[33minplace\u001b[0m=\u001b[3;92mTrue\u001b[0m\u001b[1m)\u001b[0m  # Fill NaN with     \u001b[2m               \u001b[0m\n",
              "\u001b[2;36m                    \u001b[0m         median                                                                 \u001b[2m               \u001b[0m\n",
              "\u001b[2;36m                    \u001b[0m                                                                                \u001b[2m               \u001b[0m\n"
            ],
            "text/html": [
              "<pre style=\"white-space:pre;overflow-x:auto;line-height:normal;font-family:Menlo,'DejaVu Sans Mono',consolas,'Courier New',monospace\"><span style=\"color: #7fbfbf; text-decoration-color: #7fbfbf\">                    </span><span style=\"color: #808000; text-decoration-color: #808000\">WARNING </span> <span style=\"font-weight: bold\">&lt;</span><span style=\"color: #ff00ff; text-decoration-color: #ff00ff; font-weight: bold\">ipython-input-</span><span style=\"color: #008080; text-decoration-color: #008080; font-weight: bold\">41</span><span style=\"color: #ff00ff; text-decoration-color: #ff00ff; font-weight: bold\">-7188a4f3dba1</span><span style=\"font-weight: bold\">&gt;</span>:<span style=\"color: #008080; text-decoration-color: #008080; font-weight: bold\">16</span>: FutureWarning: A value is trying   <a href=\"file:///usr/lib/python3.11/warnings.py\" target=\"_blank\"><span style=\"color: #7f7f7f; text-decoration-color: #7f7f7f\">warnings.py</span></a><span style=\"color: #7f7f7f; text-decoration-color: #7f7f7f\">:</span><a href=\"file:///usr/lib/python3.11/warnings.py#110\" target=\"_blank\"><span style=\"color: #7f7f7f; text-decoration-color: #7f7f7f\">110</span></a>\n",
              "<span style=\"color: #7fbfbf; text-decoration-color: #7fbfbf\">                    </span>         to be set on a copy of a DataFrame or Series through chained           <span style=\"color: #7f7f7f; text-decoration-color: #7f7f7f\">               </span>\n",
              "<span style=\"color: #7fbfbf; text-decoration-color: #7fbfbf\">                    </span>         assignment using an inplace method.                                    <span style=\"color: #7f7f7f; text-decoration-color: #7f7f7f\">               </span>\n",
              "<span style=\"color: #7fbfbf; text-decoration-color: #7fbfbf\">                    </span>         The behavior will change in pandas <span style=\"color: #008080; text-decoration-color: #008080; font-weight: bold\">3.0</span>. This inplace method will never <span style=\"color: #7f7f7f; text-decoration-color: #7f7f7f\">               </span>\n",
              "<span style=\"color: #7fbfbf; text-decoration-color: #7fbfbf\">                    </span>         work because the intermediate object on which we are setting values    <span style=\"color: #7f7f7f; text-decoration-color: #7f7f7f\">               </span>\n",
              "<span style=\"color: #7fbfbf; text-decoration-color: #7fbfbf\">                    </span>         always behaves as a copy.                                              <span style=\"color: #7f7f7f; text-decoration-color: #7f7f7f\">               </span>\n",
              "<span style=\"color: #7fbfbf; text-decoration-color: #7fbfbf\">                    </span>                                                                                <span style=\"color: #7f7f7f; text-decoration-color: #7f7f7f\">               </span>\n",
              "<span style=\"color: #7fbfbf; text-decoration-color: #7fbfbf\">                    </span>         For example, when doing <span style=\"color: #008000; text-decoration-color: #008000\">'df.method(value, inplace=True)'</span>, try using    <span style=\"color: #7f7f7f; text-decoration-color: #7f7f7f\">               </span>\n",
              "<span style=\"color: #7fbfbf; text-decoration-color: #7fbfbf\">                    </span>         <span style=\"color: #008000; text-decoration-color: #008000\">'df.method({col: value}, inplace=True)'</span> or df = <span style=\"color: #800080; text-decoration-color: #800080; font-weight: bold\">df.method</span><span style=\"font-weight: bold\">(</span>value<span style=\"font-weight: bold\">)</span>       <span style=\"color: #7f7f7f; text-decoration-color: #7f7f7f\">               </span>\n",
              "<span style=\"color: #7fbfbf; text-decoration-color: #7fbfbf\">                    </span>         instead, to perform the operation inplace on the original object.      <span style=\"color: #7f7f7f; text-decoration-color: #7f7f7f\">               </span>\n",
              "<span style=\"color: #7fbfbf; text-decoration-color: #7fbfbf\">                    </span>                                                                                <span style=\"color: #7f7f7f; text-decoration-color: #7f7f7f\">               </span>\n",
              "<span style=\"color: #7fbfbf; text-decoration-color: #7fbfbf\">                    </span>                                                                                <span style=\"color: #7f7f7f; text-decoration-color: #7f7f7f\">               </span>\n",
              "<span style=\"color: #7fbfbf; text-decoration-color: #7fbfbf\">                    </span>           df<span style=\"font-weight: bold\">[</span><span style=\"color: #008000; text-decoration-color: #008000\">'age'</span><span style=\"font-weight: bold\">]</span><span style=\"color: #800080; text-decoration-color: #800080; font-weight: bold\">.fillna</span><span style=\"font-weight: bold\">(</span><span style=\"color: #800080; text-decoration-color: #800080; font-weight: bold\">int</span><span style=\"font-weight: bold\">(</span>median_age<span style=\"font-weight: bold\">)</span>, <span style=\"color: #808000; text-decoration-color: #808000\">inplace</span>=<span style=\"color: #00ff00; text-decoration-color: #00ff00; font-style: italic\">True</span><span style=\"font-weight: bold\">)</span>  # Fill NaN with     <span style=\"color: #7f7f7f; text-decoration-color: #7f7f7f\">               </span>\n",
              "<span style=\"color: #7fbfbf; text-decoration-color: #7fbfbf\">                    </span>         median                                                                 <span style=\"color: #7f7f7f; text-decoration-color: #7f7f7f\">               </span>\n",
              "<span style=\"color: #7fbfbf; text-decoration-color: #7fbfbf\">                    </span>                                                                                <span style=\"color: #7f7f7f; text-decoration-color: #7f7f7f\">               </span>\n",
              "</pre>\n"
            ]
          },
          "metadata": {}
        }
      ]
    },
    {
      "cell_type": "markdown",
      "source": [
        "# Ensure player Column Exists & Reset Index"
      ],
      "metadata": {
        "id": "UxhzfLpBFu2u"
      }
    },
    {
      "cell_type": "code",
      "source": [
        "# Reset multi-index if necessary\n",
        "for df in [player_misc_stats, player_creation_stats, player_def_stats]:\n",
        "    df.reset_index(inplace=True)\n",
        "\n",
        "# Fix player column issue\n",
        "for df in [player_creation_stats, player_def_stats]:\n",
        "    if 'player_x' in df.columns:\n",
        "        df.rename(columns={'player_x': 'player'}, inplace=True)\n",
        "    elif 'player_y' in df.columns:\n",
        "        df.rename(columns={'player_y': 'player'}, inplace=True)\n",
        "\n",
        "# Check available columns\n",
        "print(\"Columns in player_creation_stats:\", player_creation_stats.columns.tolist())\n",
        "print(\"Columns in player_def_stats:\", player_def_stats.columns.tolist())\n"
      ],
      "metadata": {
        "id": "Rbl3SXrrvYqL",
        "colab": {
          "base_uri": "https://localhost:8080/"
        },
        "outputId": "ec265946-3fba-4528-b475-399a411ad346"
      },
      "execution_count": 42,
      "outputs": [
        {
          "output_type": "stream",
          "name": "stdout",
          "text": [
            "Columns in player_creation_stats: ['league', 'season', 'team', 'player', 'nation', 'pos', 'age', 'born', '90s', 'SCA_SCA', 'SCA_SCA90', 'SCA Types_PassLive', 'SCA Types_PassDead', 'SCA Types_TO', 'SCA Types_Sh', 'SCA Types_Fld', 'SCA Types_Def', 'GCA_GCA', 'GCA_GCA90', 'GCA Types_PassLive', 'GCA Types_PassDead', 'GCA Types_TO', 'GCA Types_Sh', 'GCA Types_Fld', 'GCA Types_Def']\n",
            "Columns in player_def_stats: ['league', 'season', 'team', 'player', 'nation', 'pos', 'age', 'born', '90s', 'Tackles_Tkl', 'Tackles_TklW', 'Tackles_Def 3rd', 'Tackles_Mid 3rd', 'Tackles_Att 3rd', 'Challenges_Tkl', 'Challenges_Att', 'Challenges_Tkl%', 'Challenges_Lost', 'Blocks_Blocks', 'Blocks_Sh', 'Blocks_Pass', 'Int', 'Tkl+Int', 'Clr', 'Err']\n"
          ]
        }
      ]
    },
    {
      "cell_type": "markdown",
      "source": [
        "# Merge Player Names into Attackers & Defenders"
      ],
      "metadata": {
        "id": "-GwTK3L3Fz4-"
      }
    },
    {
      "cell_type": "code",
      "source": [
        "# Ensure 'player' exists in player_misc_stats\n",
        "if 'player' not in player_misc_stats.columns:\n",
        "    player_misc_stats.reset_index(inplace=True)\n",
        "\n",
        "# Merge player names into attackers & defenders datasets\n",
        "player_creation_stats = player_creation_stats.merge(\n",
        "    player_misc_stats[['player']], how=\"left\", left_index=True, right_index=True\n",
        ")\n",
        "\n",
        "player_def_stats = player_def_stats.merge(\n",
        "    player_misc_stats[['player']], how=\"left\", left_index=True, right_index=True\n",
        ")\n",
        "\n",
        "print(\"✅ Player names merged successfully.\")\n"
      ],
      "metadata": {
        "colab": {
          "base_uri": "https://localhost:8080/"
        },
        "id": "_3sF5BujvgjL",
        "outputId": "707cce55-18a9-4e09-9b03-f7d8299f6570"
      },
      "execution_count": 43,
      "outputs": [
        {
          "output_type": "stream",
          "name": "stdout",
          "text": [
            "✅ Player names merged successfully.\n"
          ]
        }
      ]
    },
    {
      "cell_type": "code",
      "source": [
        "# Ensure only one 'player' column is kept\n",
        "for df in [player_creation_stats, player_def_stats]:\n",
        "    if 'player_x' in df.columns and 'player_y' in df.columns:\n",
        "        df['player'] = df['player_x'].combine_first(df['player_y'])  # Keep non-null values\n",
        "        df.drop(columns=['player_x', 'player_y'], inplace=True)  # Drop extra columns\n",
        "    elif 'player_x' in df.columns:\n",
        "        df.rename(columns={'player_x': 'player'}, inplace=True)\n",
        "    elif 'player_y' in df.columns:\n",
        "        df.rename(columns={'player_y': 'player'}, inplace=True)\n",
        "\n",
        "# Check if player column is now correct\n",
        "print(\"✅ Fixed player column. Available columns:\", player_creation_stats.columns.tolist())\n"
      ],
      "metadata": {
        "colab": {
          "base_uri": "https://localhost:8080/"
        },
        "id": "SAL6_jGbLyo4",
        "outputId": "a446ffe9-50e5-4f87-ff21-d84235cb6277"
      },
      "execution_count": 44,
      "outputs": [
        {
          "output_type": "stream",
          "name": "stdout",
          "text": [
            "✅ Fixed player column. Available columns: ['league', 'season', 'team', 'nation', 'pos', 'age', 'born', '90s', 'SCA_SCA', 'SCA_SCA90', 'SCA Types_PassLive', 'SCA Types_PassDead', 'SCA Types_TO', 'SCA Types_Sh', 'SCA Types_Fld', 'SCA Types_Def', 'GCA_GCA', 'GCA_GCA90', 'GCA Types_PassLive', 'GCA Types_PassDead', 'GCA Types_TO', 'GCA Types_Sh', 'GCA Types_Fld', 'GCA Types_Def', 'player']\n"
          ]
        }
      ]
    },
    {
      "cell_type": "code",
      "source": [
        "player_creation_stats.head()"
      ],
      "metadata": {
        "colab": {
          "base_uri": "https://localhost:8080/",
          "height": 446
        },
        "id": "nqfARUgGI0XW",
        "outputId": "7a3f3aa7-7a82-4b51-f523-9ea73333d8e1"
      },
      "execution_count": 45,
      "outputs": [
        {
          "output_type": "execute_result",
          "data": {
            "text/plain": [
              "               league season     team nation    pos  age  born   90s  SCA_SCA  \\\n",
              "0  ENG-Premier League   2425  Arsenal    ENG     DF   25  1997   7.8        9   \n",
              "1  ENG-Premier League   2425  Arsenal    ENG  FW,MF   25  2001  14.1       89   \n",
              "2  ENG-Premier League   2425  Arsenal    ESP     GK   25  1995  28.0        3   \n",
              "3  ENG-Premier League   2425  Arsenal    ENG     MF   25  1999  23.0       84   \n",
              "4  ENG-Premier League   2425  Arsenal    ENG  FW,MF   25  2007   6.6       16   \n",
              "\n",
              "   SCA_SCA90  ...  SCA Types_Def  GCA_GCA  GCA_GCA90  GCA Types_PassLive  \\\n",
              "0       1.15  ...              0        1       0.13                   1   \n",
              "1       6.32  ...              0       21       1.49                  12   \n",
              "2       0.11  ...              0        0        0.0                   0   \n",
              "3       3.66  ...              2        7        0.3                   4   \n",
              "4       2.42  ...              0        2        0.3                   2   \n",
              "\n",
              "   GCA Types_PassDead  GCA Types_TO  GCA Types_Sh  GCA Types_Fld  \\\n",
              "0                   0             0             0              0   \n",
              "1                   5             2             1              1   \n",
              "2                   0             0             0              0   \n",
              "3                   2             0             1              0   \n",
              "4                   0             0             0              0   \n",
              "\n",
              "   GCA Types_Def         player  \n",
              "0              0      Ben White  \n",
              "1              0    Bukayo Saka  \n",
              "2              0     David Raya  \n",
              "3              0    Declan Rice  \n",
              "4              0  Ethan Nwaneri  \n",
              "\n",
              "[5 rows x 25 columns]"
            ],
            "text/html": [
              "\n",
              "  <div id=\"df-c0317f90-da7c-483a-a005-e6e2419c2a65\" class=\"colab-df-container\">\n",
              "    <div>\n",
              "<style scoped>\n",
              "    .dataframe tbody tr th:only-of-type {\n",
              "        vertical-align: middle;\n",
              "    }\n",
              "\n",
              "    .dataframe tbody tr th {\n",
              "        vertical-align: top;\n",
              "    }\n",
              "\n",
              "    .dataframe thead th {\n",
              "        text-align: right;\n",
              "    }\n",
              "</style>\n",
              "<table border=\"1\" class=\"dataframe\">\n",
              "  <thead>\n",
              "    <tr style=\"text-align: right;\">\n",
              "      <th></th>\n",
              "      <th>league</th>\n",
              "      <th>season</th>\n",
              "      <th>team</th>\n",
              "      <th>nation</th>\n",
              "      <th>pos</th>\n",
              "      <th>age</th>\n",
              "      <th>born</th>\n",
              "      <th>90s</th>\n",
              "      <th>SCA_SCA</th>\n",
              "      <th>SCA_SCA90</th>\n",
              "      <th>...</th>\n",
              "      <th>SCA Types_Def</th>\n",
              "      <th>GCA_GCA</th>\n",
              "      <th>GCA_GCA90</th>\n",
              "      <th>GCA Types_PassLive</th>\n",
              "      <th>GCA Types_PassDead</th>\n",
              "      <th>GCA Types_TO</th>\n",
              "      <th>GCA Types_Sh</th>\n",
              "      <th>GCA Types_Fld</th>\n",
              "      <th>GCA Types_Def</th>\n",
              "      <th>player</th>\n",
              "    </tr>\n",
              "  </thead>\n",
              "  <tbody>\n",
              "    <tr>\n",
              "      <th>0</th>\n",
              "      <td>ENG-Premier League</td>\n",
              "      <td>2425</td>\n",
              "      <td>Arsenal</td>\n",
              "      <td>ENG</td>\n",
              "      <td>DF</td>\n",
              "      <td>25</td>\n",
              "      <td>1997</td>\n",
              "      <td>7.8</td>\n",
              "      <td>9</td>\n",
              "      <td>1.15</td>\n",
              "      <td>...</td>\n",
              "      <td>0</td>\n",
              "      <td>1</td>\n",
              "      <td>0.13</td>\n",
              "      <td>1</td>\n",
              "      <td>0</td>\n",
              "      <td>0</td>\n",
              "      <td>0</td>\n",
              "      <td>0</td>\n",
              "      <td>0</td>\n",
              "      <td>Ben White</td>\n",
              "    </tr>\n",
              "    <tr>\n",
              "      <th>1</th>\n",
              "      <td>ENG-Premier League</td>\n",
              "      <td>2425</td>\n",
              "      <td>Arsenal</td>\n",
              "      <td>ENG</td>\n",
              "      <td>FW,MF</td>\n",
              "      <td>25</td>\n",
              "      <td>2001</td>\n",
              "      <td>14.1</td>\n",
              "      <td>89</td>\n",
              "      <td>6.32</td>\n",
              "      <td>...</td>\n",
              "      <td>0</td>\n",
              "      <td>21</td>\n",
              "      <td>1.49</td>\n",
              "      <td>12</td>\n",
              "      <td>5</td>\n",
              "      <td>2</td>\n",
              "      <td>1</td>\n",
              "      <td>1</td>\n",
              "      <td>0</td>\n",
              "      <td>Bukayo Saka</td>\n",
              "    </tr>\n",
              "    <tr>\n",
              "      <th>2</th>\n",
              "      <td>ENG-Premier League</td>\n",
              "      <td>2425</td>\n",
              "      <td>Arsenal</td>\n",
              "      <td>ESP</td>\n",
              "      <td>GK</td>\n",
              "      <td>25</td>\n",
              "      <td>1995</td>\n",
              "      <td>28.0</td>\n",
              "      <td>3</td>\n",
              "      <td>0.11</td>\n",
              "      <td>...</td>\n",
              "      <td>0</td>\n",
              "      <td>0</td>\n",
              "      <td>0.0</td>\n",
              "      <td>0</td>\n",
              "      <td>0</td>\n",
              "      <td>0</td>\n",
              "      <td>0</td>\n",
              "      <td>0</td>\n",
              "      <td>0</td>\n",
              "      <td>David Raya</td>\n",
              "    </tr>\n",
              "    <tr>\n",
              "      <th>3</th>\n",
              "      <td>ENG-Premier League</td>\n",
              "      <td>2425</td>\n",
              "      <td>Arsenal</td>\n",
              "      <td>ENG</td>\n",
              "      <td>MF</td>\n",
              "      <td>25</td>\n",
              "      <td>1999</td>\n",
              "      <td>23.0</td>\n",
              "      <td>84</td>\n",
              "      <td>3.66</td>\n",
              "      <td>...</td>\n",
              "      <td>2</td>\n",
              "      <td>7</td>\n",
              "      <td>0.3</td>\n",
              "      <td>4</td>\n",
              "      <td>2</td>\n",
              "      <td>0</td>\n",
              "      <td>1</td>\n",
              "      <td>0</td>\n",
              "      <td>0</td>\n",
              "      <td>Declan Rice</td>\n",
              "    </tr>\n",
              "    <tr>\n",
              "      <th>4</th>\n",
              "      <td>ENG-Premier League</td>\n",
              "      <td>2425</td>\n",
              "      <td>Arsenal</td>\n",
              "      <td>ENG</td>\n",
              "      <td>FW,MF</td>\n",
              "      <td>25</td>\n",
              "      <td>2007</td>\n",
              "      <td>6.6</td>\n",
              "      <td>16</td>\n",
              "      <td>2.42</td>\n",
              "      <td>...</td>\n",
              "      <td>0</td>\n",
              "      <td>2</td>\n",
              "      <td>0.3</td>\n",
              "      <td>2</td>\n",
              "      <td>0</td>\n",
              "      <td>0</td>\n",
              "      <td>0</td>\n",
              "      <td>0</td>\n",
              "      <td>0</td>\n",
              "      <td>Ethan Nwaneri</td>\n",
              "    </tr>\n",
              "  </tbody>\n",
              "</table>\n",
              "<p>5 rows × 25 columns</p>\n",
              "</div>\n",
              "    <div class=\"colab-df-buttons\">\n",
              "\n",
              "  <div class=\"colab-df-container\">\n",
              "    <button class=\"colab-df-convert\" onclick=\"convertToInteractive('df-c0317f90-da7c-483a-a005-e6e2419c2a65')\"\n",
              "            title=\"Convert this dataframe to an interactive table.\"\n",
              "            style=\"display:none;\">\n",
              "\n",
              "  <svg xmlns=\"http://www.w3.org/2000/svg\" height=\"24px\" viewBox=\"0 -960 960 960\">\n",
              "    <path d=\"M120-120v-720h720v720H120Zm60-500h600v-160H180v160Zm220 220h160v-160H400v160Zm0 220h160v-160H400v160ZM180-400h160v-160H180v160Zm440 0h160v-160H620v160ZM180-180h160v-160H180v160Zm440 0h160v-160H620v160Z\"/>\n",
              "  </svg>\n",
              "    </button>\n",
              "\n",
              "  <style>\n",
              "    .colab-df-container {\n",
              "      display:flex;\n",
              "      gap: 12px;\n",
              "    }\n",
              "\n",
              "    .colab-df-convert {\n",
              "      background-color: #E8F0FE;\n",
              "      border: none;\n",
              "      border-radius: 50%;\n",
              "      cursor: pointer;\n",
              "      display: none;\n",
              "      fill: #1967D2;\n",
              "      height: 32px;\n",
              "      padding: 0 0 0 0;\n",
              "      width: 32px;\n",
              "    }\n",
              "\n",
              "    .colab-df-convert:hover {\n",
              "      background-color: #E2EBFA;\n",
              "      box-shadow: 0px 1px 2px rgba(60, 64, 67, 0.3), 0px 1px 3px 1px rgba(60, 64, 67, 0.15);\n",
              "      fill: #174EA6;\n",
              "    }\n",
              "\n",
              "    .colab-df-buttons div {\n",
              "      margin-bottom: 4px;\n",
              "    }\n",
              "\n",
              "    [theme=dark] .colab-df-convert {\n",
              "      background-color: #3B4455;\n",
              "      fill: #D2E3FC;\n",
              "    }\n",
              "\n",
              "    [theme=dark] .colab-df-convert:hover {\n",
              "      background-color: #434B5C;\n",
              "      box-shadow: 0px 1px 3px 1px rgba(0, 0, 0, 0.15);\n",
              "      filter: drop-shadow(0px 1px 2px rgba(0, 0, 0, 0.3));\n",
              "      fill: #FFFFFF;\n",
              "    }\n",
              "  </style>\n",
              "\n",
              "    <script>\n",
              "      const buttonEl =\n",
              "        document.querySelector('#df-c0317f90-da7c-483a-a005-e6e2419c2a65 button.colab-df-convert');\n",
              "      buttonEl.style.display =\n",
              "        google.colab.kernel.accessAllowed ? 'block' : 'none';\n",
              "\n",
              "      async function convertToInteractive(key) {\n",
              "        const element = document.querySelector('#df-c0317f90-da7c-483a-a005-e6e2419c2a65');\n",
              "        const dataTable =\n",
              "          await google.colab.kernel.invokeFunction('convertToInteractive',\n",
              "                                                    [key], {});\n",
              "        if (!dataTable) return;\n",
              "\n",
              "        const docLinkHtml = 'Like what you see? Visit the ' +\n",
              "          '<a target=\"_blank\" href=https://colab.research.google.com/notebooks/data_table.ipynb>data table notebook</a>'\n",
              "          + ' to learn more about interactive tables.';\n",
              "        element.innerHTML = '';\n",
              "        dataTable['output_type'] = 'display_data';\n",
              "        await google.colab.output.renderOutput(dataTable, element);\n",
              "        const docLink = document.createElement('div');\n",
              "        docLink.innerHTML = docLinkHtml;\n",
              "        element.appendChild(docLink);\n",
              "      }\n",
              "    </script>\n",
              "  </div>\n",
              "\n",
              "\n",
              "<div id=\"df-b62d34c6-6d6a-4d6d-995b-feeac3ac61f6\">\n",
              "  <button class=\"colab-df-quickchart\" onclick=\"quickchart('df-b62d34c6-6d6a-4d6d-995b-feeac3ac61f6')\"\n",
              "            title=\"Suggest charts\"\n",
              "            style=\"display:none;\">\n",
              "\n",
              "<svg xmlns=\"http://www.w3.org/2000/svg\" height=\"24px\"viewBox=\"0 0 24 24\"\n",
              "     width=\"24px\">\n",
              "    <g>\n",
              "        <path d=\"M19 3H5c-1.1 0-2 .9-2 2v14c0 1.1.9 2 2 2h14c1.1 0 2-.9 2-2V5c0-1.1-.9-2-2-2zM9 17H7v-7h2v7zm4 0h-2V7h2v10zm4 0h-2v-4h2v4z\"/>\n",
              "    </g>\n",
              "</svg>\n",
              "  </button>\n",
              "\n",
              "<style>\n",
              "  .colab-df-quickchart {\n",
              "      --bg-color: #E8F0FE;\n",
              "      --fill-color: #1967D2;\n",
              "      --hover-bg-color: #E2EBFA;\n",
              "      --hover-fill-color: #174EA6;\n",
              "      --disabled-fill-color: #AAA;\n",
              "      --disabled-bg-color: #DDD;\n",
              "  }\n",
              "\n",
              "  [theme=dark] .colab-df-quickchart {\n",
              "      --bg-color: #3B4455;\n",
              "      --fill-color: #D2E3FC;\n",
              "      --hover-bg-color: #434B5C;\n",
              "      --hover-fill-color: #FFFFFF;\n",
              "      --disabled-bg-color: #3B4455;\n",
              "      --disabled-fill-color: #666;\n",
              "  }\n",
              "\n",
              "  .colab-df-quickchart {\n",
              "    background-color: var(--bg-color);\n",
              "    border: none;\n",
              "    border-radius: 50%;\n",
              "    cursor: pointer;\n",
              "    display: none;\n",
              "    fill: var(--fill-color);\n",
              "    height: 32px;\n",
              "    padding: 0;\n",
              "    width: 32px;\n",
              "  }\n",
              "\n",
              "  .colab-df-quickchart:hover {\n",
              "    background-color: var(--hover-bg-color);\n",
              "    box-shadow: 0 1px 2px rgba(60, 64, 67, 0.3), 0 1px 3px 1px rgba(60, 64, 67, 0.15);\n",
              "    fill: var(--button-hover-fill-color);\n",
              "  }\n",
              "\n",
              "  .colab-df-quickchart-complete:disabled,\n",
              "  .colab-df-quickchart-complete:disabled:hover {\n",
              "    background-color: var(--disabled-bg-color);\n",
              "    fill: var(--disabled-fill-color);\n",
              "    box-shadow: none;\n",
              "  }\n",
              "\n",
              "  .colab-df-spinner {\n",
              "    border: 2px solid var(--fill-color);\n",
              "    border-color: transparent;\n",
              "    border-bottom-color: var(--fill-color);\n",
              "    animation:\n",
              "      spin 1s steps(1) infinite;\n",
              "  }\n",
              "\n",
              "  @keyframes spin {\n",
              "    0% {\n",
              "      border-color: transparent;\n",
              "      border-bottom-color: var(--fill-color);\n",
              "      border-left-color: var(--fill-color);\n",
              "    }\n",
              "    20% {\n",
              "      border-color: transparent;\n",
              "      border-left-color: var(--fill-color);\n",
              "      border-top-color: var(--fill-color);\n",
              "    }\n",
              "    30% {\n",
              "      border-color: transparent;\n",
              "      border-left-color: var(--fill-color);\n",
              "      border-top-color: var(--fill-color);\n",
              "      border-right-color: var(--fill-color);\n",
              "    }\n",
              "    40% {\n",
              "      border-color: transparent;\n",
              "      border-right-color: var(--fill-color);\n",
              "      border-top-color: var(--fill-color);\n",
              "    }\n",
              "    60% {\n",
              "      border-color: transparent;\n",
              "      border-right-color: var(--fill-color);\n",
              "    }\n",
              "    80% {\n",
              "      border-color: transparent;\n",
              "      border-right-color: var(--fill-color);\n",
              "      border-bottom-color: var(--fill-color);\n",
              "    }\n",
              "    90% {\n",
              "      border-color: transparent;\n",
              "      border-bottom-color: var(--fill-color);\n",
              "    }\n",
              "  }\n",
              "</style>\n",
              "\n",
              "  <script>\n",
              "    async function quickchart(key) {\n",
              "      const quickchartButtonEl =\n",
              "        document.querySelector('#' + key + ' button');\n",
              "      quickchartButtonEl.disabled = true;  // To prevent multiple clicks.\n",
              "      quickchartButtonEl.classList.add('colab-df-spinner');\n",
              "      try {\n",
              "        const charts = await google.colab.kernel.invokeFunction(\n",
              "            'suggestCharts', [key], {});\n",
              "      } catch (error) {\n",
              "        console.error('Error during call to suggestCharts:', error);\n",
              "      }\n",
              "      quickchartButtonEl.classList.remove('colab-df-spinner');\n",
              "      quickchartButtonEl.classList.add('colab-df-quickchart-complete');\n",
              "    }\n",
              "    (() => {\n",
              "      let quickchartButtonEl =\n",
              "        document.querySelector('#df-b62d34c6-6d6a-4d6d-995b-feeac3ac61f6 button');\n",
              "      quickchartButtonEl.style.display =\n",
              "        google.colab.kernel.accessAllowed ? 'block' : 'none';\n",
              "    })();\n",
              "  </script>\n",
              "</div>\n",
              "\n",
              "    </div>\n",
              "  </div>\n"
            ],
            "application/vnd.google.colaboratory.intrinsic+json": {
              "type": "dataframe",
              "variable_name": "player_creation_stats"
            }
          },
          "metadata": {},
          "execution_count": 45
        }
      ]
    },
    {
      "cell_type": "markdown",
      "source": [
        "# Merge Salaries"
      ],
      "metadata": {
        "id": "ufSZP6tWIJRK"
      }
    },
    {
      "cell_type": "code",
      "source": [
        "# Rename 'player name' to 'player' in EPL salaries dataset\n",
        "epl_salaries.rename(columns={'player name': 'player'}, inplace=True)\n",
        "\n",
        "# Merge salaries with player stats (Attackers & Defenders)\n",
        "player_creation_stats = player_creation_stats.merge(\n",
        "    epl_salaries[['player', 'weekly wage', 'yearly salary']], how='left', on='player'\n",
        ")\n",
        "\n",
        "player_def_stats = player_def_stats.merge(\n",
        "    epl_salaries[['player', 'weekly wage', 'yearly salary']], how='left', on='player'\n",
        ")\n",
        "\n",
        "# Fill missing salary values with NaN (it will be NaN by default in Pandas)\n",
        "print(\"✅ Salaries merged successfully.\")"
      ],
      "metadata": {
        "colab": {
          "base_uri": "https://localhost:8080/"
        },
        "id": "GPRo8YRkATHq",
        "outputId": "955951bb-a445-4322-c25d-b20106b0fe30"
      },
      "execution_count": 46,
      "outputs": [
        {
          "output_type": "stream",
          "name": "stdout",
          "text": [
            "✅ Salaries merged successfully.\n"
          ]
        }
      ]
    },
    {
      "cell_type": "code",
      "source": [
        "player_creation_stats.head()"
      ],
      "metadata": {
        "id": "-56o6SHJMfF2",
        "colab": {
          "base_uri": "https://localhost:8080/",
          "height": 446
        },
        "outputId": "c7a26be4-6c4b-49aa-de3f-060524ca10ab"
      },
      "execution_count": 47,
      "outputs": [
        {
          "output_type": "execute_result",
          "data": {
            "text/plain": [
              "               league season     team nation    pos  age  born   90s  SCA_SCA  \\\n",
              "0  ENG-Premier League   2425  Arsenal    ENG     DF   25  1997   7.8        9   \n",
              "1  ENG-Premier League   2425  Arsenal    ENG  FW,MF   25  2001  14.1       89   \n",
              "2  ENG-Premier League   2425  Arsenal    ESP     GK   25  1995  28.0        3   \n",
              "3  ENG-Premier League   2425  Arsenal    ENG     MF   25  1999  23.0       84   \n",
              "4  ENG-Premier League   2425  Arsenal    ENG  FW,MF   25  2007   6.6       16   \n",
              "\n",
              "   SCA_SCA90  ...  GCA_GCA90  GCA Types_PassLive  GCA Types_PassDead  \\\n",
              "0       1.15  ...       0.13                   1                   0   \n",
              "1       6.32  ...       1.49                  12                   5   \n",
              "2       0.11  ...        0.0                   0                   0   \n",
              "3       3.66  ...        0.3                   4                   2   \n",
              "4       2.42  ...        0.3                   2                   0   \n",
              "\n",
              "   GCA Types_TO  GCA Types_Sh  GCA Types_Fld  GCA Types_Def         player  \\\n",
              "0             0             0              0              0      Ben White   \n",
              "1             2             1              1              0    Bukayo Saka   \n",
              "2             0             0              0              0     David Raya   \n",
              "3             0             1              0              0    Declan Rice   \n",
              "4             0             0              0              0  Ethan Nwaneri   \n",
              "\n",
              "   weekly wage  yearly salary  \n",
              "0          NaN            NaN  \n",
              "1     250000.0     13000000.0  \n",
              "2      77000.0      4004000.0  \n",
              "3     250000.0     13000000.0  \n",
              "4          NaN            NaN  \n",
              "\n",
              "[5 rows x 27 columns]"
            ],
            "text/html": [
              "\n",
              "  <div id=\"df-4c8d84b6-d404-43bf-a7ae-88919783e2f3\" class=\"colab-df-container\">\n",
              "    <div>\n",
              "<style scoped>\n",
              "    .dataframe tbody tr th:only-of-type {\n",
              "        vertical-align: middle;\n",
              "    }\n",
              "\n",
              "    .dataframe tbody tr th {\n",
              "        vertical-align: top;\n",
              "    }\n",
              "\n",
              "    .dataframe thead th {\n",
              "        text-align: right;\n",
              "    }\n",
              "</style>\n",
              "<table border=\"1\" class=\"dataframe\">\n",
              "  <thead>\n",
              "    <tr style=\"text-align: right;\">\n",
              "      <th></th>\n",
              "      <th>league</th>\n",
              "      <th>season</th>\n",
              "      <th>team</th>\n",
              "      <th>nation</th>\n",
              "      <th>pos</th>\n",
              "      <th>age</th>\n",
              "      <th>born</th>\n",
              "      <th>90s</th>\n",
              "      <th>SCA_SCA</th>\n",
              "      <th>SCA_SCA90</th>\n",
              "      <th>...</th>\n",
              "      <th>GCA_GCA90</th>\n",
              "      <th>GCA Types_PassLive</th>\n",
              "      <th>GCA Types_PassDead</th>\n",
              "      <th>GCA Types_TO</th>\n",
              "      <th>GCA Types_Sh</th>\n",
              "      <th>GCA Types_Fld</th>\n",
              "      <th>GCA Types_Def</th>\n",
              "      <th>player</th>\n",
              "      <th>weekly wage</th>\n",
              "      <th>yearly salary</th>\n",
              "    </tr>\n",
              "  </thead>\n",
              "  <tbody>\n",
              "    <tr>\n",
              "      <th>0</th>\n",
              "      <td>ENG-Premier League</td>\n",
              "      <td>2425</td>\n",
              "      <td>Arsenal</td>\n",
              "      <td>ENG</td>\n",
              "      <td>DF</td>\n",
              "      <td>25</td>\n",
              "      <td>1997</td>\n",
              "      <td>7.8</td>\n",
              "      <td>9</td>\n",
              "      <td>1.15</td>\n",
              "      <td>...</td>\n",
              "      <td>0.13</td>\n",
              "      <td>1</td>\n",
              "      <td>0</td>\n",
              "      <td>0</td>\n",
              "      <td>0</td>\n",
              "      <td>0</td>\n",
              "      <td>0</td>\n",
              "      <td>Ben White</td>\n",
              "      <td>NaN</td>\n",
              "      <td>NaN</td>\n",
              "    </tr>\n",
              "    <tr>\n",
              "      <th>1</th>\n",
              "      <td>ENG-Premier League</td>\n",
              "      <td>2425</td>\n",
              "      <td>Arsenal</td>\n",
              "      <td>ENG</td>\n",
              "      <td>FW,MF</td>\n",
              "      <td>25</td>\n",
              "      <td>2001</td>\n",
              "      <td>14.1</td>\n",
              "      <td>89</td>\n",
              "      <td>6.32</td>\n",
              "      <td>...</td>\n",
              "      <td>1.49</td>\n",
              "      <td>12</td>\n",
              "      <td>5</td>\n",
              "      <td>2</td>\n",
              "      <td>1</td>\n",
              "      <td>1</td>\n",
              "      <td>0</td>\n",
              "      <td>Bukayo Saka</td>\n",
              "      <td>250000.0</td>\n",
              "      <td>13000000.0</td>\n",
              "    </tr>\n",
              "    <tr>\n",
              "      <th>2</th>\n",
              "      <td>ENG-Premier League</td>\n",
              "      <td>2425</td>\n",
              "      <td>Arsenal</td>\n",
              "      <td>ESP</td>\n",
              "      <td>GK</td>\n",
              "      <td>25</td>\n",
              "      <td>1995</td>\n",
              "      <td>28.0</td>\n",
              "      <td>3</td>\n",
              "      <td>0.11</td>\n",
              "      <td>...</td>\n",
              "      <td>0.0</td>\n",
              "      <td>0</td>\n",
              "      <td>0</td>\n",
              "      <td>0</td>\n",
              "      <td>0</td>\n",
              "      <td>0</td>\n",
              "      <td>0</td>\n",
              "      <td>David Raya</td>\n",
              "      <td>77000.0</td>\n",
              "      <td>4004000.0</td>\n",
              "    </tr>\n",
              "    <tr>\n",
              "      <th>3</th>\n",
              "      <td>ENG-Premier League</td>\n",
              "      <td>2425</td>\n",
              "      <td>Arsenal</td>\n",
              "      <td>ENG</td>\n",
              "      <td>MF</td>\n",
              "      <td>25</td>\n",
              "      <td>1999</td>\n",
              "      <td>23.0</td>\n",
              "      <td>84</td>\n",
              "      <td>3.66</td>\n",
              "      <td>...</td>\n",
              "      <td>0.3</td>\n",
              "      <td>4</td>\n",
              "      <td>2</td>\n",
              "      <td>0</td>\n",
              "      <td>1</td>\n",
              "      <td>0</td>\n",
              "      <td>0</td>\n",
              "      <td>Declan Rice</td>\n",
              "      <td>250000.0</td>\n",
              "      <td>13000000.0</td>\n",
              "    </tr>\n",
              "    <tr>\n",
              "      <th>4</th>\n",
              "      <td>ENG-Premier League</td>\n",
              "      <td>2425</td>\n",
              "      <td>Arsenal</td>\n",
              "      <td>ENG</td>\n",
              "      <td>FW,MF</td>\n",
              "      <td>25</td>\n",
              "      <td>2007</td>\n",
              "      <td>6.6</td>\n",
              "      <td>16</td>\n",
              "      <td>2.42</td>\n",
              "      <td>...</td>\n",
              "      <td>0.3</td>\n",
              "      <td>2</td>\n",
              "      <td>0</td>\n",
              "      <td>0</td>\n",
              "      <td>0</td>\n",
              "      <td>0</td>\n",
              "      <td>0</td>\n",
              "      <td>Ethan Nwaneri</td>\n",
              "      <td>NaN</td>\n",
              "      <td>NaN</td>\n",
              "    </tr>\n",
              "  </tbody>\n",
              "</table>\n",
              "<p>5 rows × 27 columns</p>\n",
              "</div>\n",
              "    <div class=\"colab-df-buttons\">\n",
              "\n",
              "  <div class=\"colab-df-container\">\n",
              "    <button class=\"colab-df-convert\" onclick=\"convertToInteractive('df-4c8d84b6-d404-43bf-a7ae-88919783e2f3')\"\n",
              "            title=\"Convert this dataframe to an interactive table.\"\n",
              "            style=\"display:none;\">\n",
              "\n",
              "  <svg xmlns=\"http://www.w3.org/2000/svg\" height=\"24px\" viewBox=\"0 -960 960 960\">\n",
              "    <path d=\"M120-120v-720h720v720H120Zm60-500h600v-160H180v160Zm220 220h160v-160H400v160Zm0 220h160v-160H400v160ZM180-400h160v-160H180v160Zm440 0h160v-160H620v160ZM180-180h160v-160H180v160Zm440 0h160v-160H620v160Z\"/>\n",
              "  </svg>\n",
              "    </button>\n",
              "\n",
              "  <style>\n",
              "    .colab-df-container {\n",
              "      display:flex;\n",
              "      gap: 12px;\n",
              "    }\n",
              "\n",
              "    .colab-df-convert {\n",
              "      background-color: #E8F0FE;\n",
              "      border: none;\n",
              "      border-radius: 50%;\n",
              "      cursor: pointer;\n",
              "      display: none;\n",
              "      fill: #1967D2;\n",
              "      height: 32px;\n",
              "      padding: 0 0 0 0;\n",
              "      width: 32px;\n",
              "    }\n",
              "\n",
              "    .colab-df-convert:hover {\n",
              "      background-color: #E2EBFA;\n",
              "      box-shadow: 0px 1px 2px rgba(60, 64, 67, 0.3), 0px 1px 3px 1px rgba(60, 64, 67, 0.15);\n",
              "      fill: #174EA6;\n",
              "    }\n",
              "\n",
              "    .colab-df-buttons div {\n",
              "      margin-bottom: 4px;\n",
              "    }\n",
              "\n",
              "    [theme=dark] .colab-df-convert {\n",
              "      background-color: #3B4455;\n",
              "      fill: #D2E3FC;\n",
              "    }\n",
              "\n",
              "    [theme=dark] .colab-df-convert:hover {\n",
              "      background-color: #434B5C;\n",
              "      box-shadow: 0px 1px 3px 1px rgba(0, 0, 0, 0.15);\n",
              "      filter: drop-shadow(0px 1px 2px rgba(0, 0, 0, 0.3));\n",
              "      fill: #FFFFFF;\n",
              "    }\n",
              "  </style>\n",
              "\n",
              "    <script>\n",
              "      const buttonEl =\n",
              "        document.querySelector('#df-4c8d84b6-d404-43bf-a7ae-88919783e2f3 button.colab-df-convert');\n",
              "      buttonEl.style.display =\n",
              "        google.colab.kernel.accessAllowed ? 'block' : 'none';\n",
              "\n",
              "      async function convertToInteractive(key) {\n",
              "        const element = document.querySelector('#df-4c8d84b6-d404-43bf-a7ae-88919783e2f3');\n",
              "        const dataTable =\n",
              "          await google.colab.kernel.invokeFunction('convertToInteractive',\n",
              "                                                    [key], {});\n",
              "        if (!dataTable) return;\n",
              "\n",
              "        const docLinkHtml = 'Like what you see? Visit the ' +\n",
              "          '<a target=\"_blank\" href=https://colab.research.google.com/notebooks/data_table.ipynb>data table notebook</a>'\n",
              "          + ' to learn more about interactive tables.';\n",
              "        element.innerHTML = '';\n",
              "        dataTable['output_type'] = 'display_data';\n",
              "        await google.colab.output.renderOutput(dataTable, element);\n",
              "        const docLink = document.createElement('div');\n",
              "        docLink.innerHTML = docLinkHtml;\n",
              "        element.appendChild(docLink);\n",
              "      }\n",
              "    </script>\n",
              "  </div>\n",
              "\n",
              "\n",
              "<div id=\"df-4fd5214e-53ef-4b6b-b89f-dc457fae55da\">\n",
              "  <button class=\"colab-df-quickchart\" onclick=\"quickchart('df-4fd5214e-53ef-4b6b-b89f-dc457fae55da')\"\n",
              "            title=\"Suggest charts\"\n",
              "            style=\"display:none;\">\n",
              "\n",
              "<svg xmlns=\"http://www.w3.org/2000/svg\" height=\"24px\"viewBox=\"0 0 24 24\"\n",
              "     width=\"24px\">\n",
              "    <g>\n",
              "        <path d=\"M19 3H5c-1.1 0-2 .9-2 2v14c0 1.1.9 2 2 2h14c1.1 0 2-.9 2-2V5c0-1.1-.9-2-2-2zM9 17H7v-7h2v7zm4 0h-2V7h2v10zm4 0h-2v-4h2v4z\"/>\n",
              "    </g>\n",
              "</svg>\n",
              "  </button>\n",
              "\n",
              "<style>\n",
              "  .colab-df-quickchart {\n",
              "      --bg-color: #E8F0FE;\n",
              "      --fill-color: #1967D2;\n",
              "      --hover-bg-color: #E2EBFA;\n",
              "      --hover-fill-color: #174EA6;\n",
              "      --disabled-fill-color: #AAA;\n",
              "      --disabled-bg-color: #DDD;\n",
              "  }\n",
              "\n",
              "  [theme=dark] .colab-df-quickchart {\n",
              "      --bg-color: #3B4455;\n",
              "      --fill-color: #D2E3FC;\n",
              "      --hover-bg-color: #434B5C;\n",
              "      --hover-fill-color: #FFFFFF;\n",
              "      --disabled-bg-color: #3B4455;\n",
              "      --disabled-fill-color: #666;\n",
              "  }\n",
              "\n",
              "  .colab-df-quickchart {\n",
              "    background-color: var(--bg-color);\n",
              "    border: none;\n",
              "    border-radius: 50%;\n",
              "    cursor: pointer;\n",
              "    display: none;\n",
              "    fill: var(--fill-color);\n",
              "    height: 32px;\n",
              "    padding: 0;\n",
              "    width: 32px;\n",
              "  }\n",
              "\n",
              "  .colab-df-quickchart:hover {\n",
              "    background-color: var(--hover-bg-color);\n",
              "    box-shadow: 0 1px 2px rgba(60, 64, 67, 0.3), 0 1px 3px 1px rgba(60, 64, 67, 0.15);\n",
              "    fill: var(--button-hover-fill-color);\n",
              "  }\n",
              "\n",
              "  .colab-df-quickchart-complete:disabled,\n",
              "  .colab-df-quickchart-complete:disabled:hover {\n",
              "    background-color: var(--disabled-bg-color);\n",
              "    fill: var(--disabled-fill-color);\n",
              "    box-shadow: none;\n",
              "  }\n",
              "\n",
              "  .colab-df-spinner {\n",
              "    border: 2px solid var(--fill-color);\n",
              "    border-color: transparent;\n",
              "    border-bottom-color: var(--fill-color);\n",
              "    animation:\n",
              "      spin 1s steps(1) infinite;\n",
              "  }\n",
              "\n",
              "  @keyframes spin {\n",
              "    0% {\n",
              "      border-color: transparent;\n",
              "      border-bottom-color: var(--fill-color);\n",
              "      border-left-color: var(--fill-color);\n",
              "    }\n",
              "    20% {\n",
              "      border-color: transparent;\n",
              "      border-left-color: var(--fill-color);\n",
              "      border-top-color: var(--fill-color);\n",
              "    }\n",
              "    30% {\n",
              "      border-color: transparent;\n",
              "      border-left-color: var(--fill-color);\n",
              "      border-top-color: var(--fill-color);\n",
              "      border-right-color: var(--fill-color);\n",
              "    }\n",
              "    40% {\n",
              "      border-color: transparent;\n",
              "      border-right-color: var(--fill-color);\n",
              "      border-top-color: var(--fill-color);\n",
              "    }\n",
              "    60% {\n",
              "      border-color: transparent;\n",
              "      border-right-color: var(--fill-color);\n",
              "    }\n",
              "    80% {\n",
              "      border-color: transparent;\n",
              "      border-right-color: var(--fill-color);\n",
              "      border-bottom-color: var(--fill-color);\n",
              "    }\n",
              "    90% {\n",
              "      border-color: transparent;\n",
              "      border-bottom-color: var(--fill-color);\n",
              "    }\n",
              "  }\n",
              "</style>\n",
              "\n",
              "  <script>\n",
              "    async function quickchart(key) {\n",
              "      const quickchartButtonEl =\n",
              "        document.querySelector('#' + key + ' button');\n",
              "      quickchartButtonEl.disabled = true;  // To prevent multiple clicks.\n",
              "      quickchartButtonEl.classList.add('colab-df-spinner');\n",
              "      try {\n",
              "        const charts = await google.colab.kernel.invokeFunction(\n",
              "            'suggestCharts', [key], {});\n",
              "      } catch (error) {\n",
              "        console.error('Error during call to suggestCharts:', error);\n",
              "      }\n",
              "      quickchartButtonEl.classList.remove('colab-df-spinner');\n",
              "      quickchartButtonEl.classList.add('colab-df-quickchart-complete');\n",
              "    }\n",
              "    (() => {\n",
              "      let quickchartButtonEl =\n",
              "        document.querySelector('#df-4fd5214e-53ef-4b6b-b89f-dc457fae55da button');\n",
              "      quickchartButtonEl.style.display =\n",
              "        google.colab.kernel.accessAllowed ? 'block' : 'none';\n",
              "    })();\n",
              "  </script>\n",
              "</div>\n",
              "\n",
              "    </div>\n",
              "  </div>\n"
            ],
            "application/vnd.google.colaboratory.intrinsic+json": {
              "type": "dataframe",
              "variable_name": "player_creation_stats"
            }
          },
          "metadata": {},
          "execution_count": 47
        }
      ]
    },
    {
      "cell_type": "markdown",
      "source": [
        "# Filter & Save Attackers and Defenders"
      ],
      "metadata": {
        "id": "E82tBbpVJoiU"
      }
    },
    {
      "cell_type": "code",
      "source": [
        "# Filter only forwards (attackers)\n",
        "attackers = player_creation_stats[player_creation_stats[\"pos\"].str.contains(\"FW\", na=False)]\n",
        "\n",
        "# Filter only defenders\n",
        "defenders = player_def_stats[player_def_stats[\"pos\"].str.contains(\"DF\", na=False)]\n",
        "\n",
        "# Save both datasets\n",
        "attackers.to_csv(\"/content/cleaned_attackers.csv\", index=False)\n",
        "defenders.to_csv(\"/content/cleaned_defenders.csv\", index=False)\n",
        "\n",
        "print(\"✅ Cleaned datasets saved: 'cleaned_attackers.csv' and 'cleaned_defenders.csv'\")"
      ],
      "metadata": {
        "colab": {
          "base_uri": "https://localhost:8080/"
        },
        "id": "qh0QSs9SJrXq",
        "outputId": "1553c8c9-97df-4672-aeb9-467872cb1890"
      },
      "execution_count": 48,
      "outputs": [
        {
          "output_type": "stream",
          "name": "stdout",
          "text": [
            "✅ Cleaned datasets saved: 'cleaned_attackers.csv' and 'cleaned_defenders.csv'\n"
          ]
        }
      ]
    },
    {
      "cell_type": "code",
      "source": [
        "!pip install nbconvert[webpdf] playwright pyppeteer"
      ],
      "metadata": {
        "colab": {
          "base_uri": "https://localhost:8080/"
        },
        "id": "O65jTOwiEgdW",
        "outputId": "75e0278a-aa0f-45b3-cc44-48dad2f1626d"
      },
      "execution_count": 49,
      "outputs": [
        {
          "output_type": "stream",
          "name": "stdout",
          "text": [
            "Requirement already satisfied: playwright in /usr/local/lib/python3.11/dist-packages (1.50.0)\n",
            "Requirement already satisfied: pyppeteer in /usr/local/lib/python3.11/dist-packages (0.0.25)\n",
            "Requirement already satisfied: nbconvert[webpdf] in /usr/local/lib/python3.11/dist-packages (7.16.6)\n",
            "Requirement already satisfied: beautifulsoup4 in /usr/local/lib/python3.11/dist-packages (from nbconvert[webpdf]) (4.13.3)\n",
            "Requirement already satisfied: bleach!=5.0.0 in /usr/local/lib/python3.11/dist-packages (from bleach[css]!=5.0.0->nbconvert[webpdf]) (6.2.0)\n",
            "Requirement already satisfied: defusedxml in /usr/local/lib/python3.11/dist-packages (from nbconvert[webpdf]) (0.7.1)\n",
            "Requirement already satisfied: jinja2>=3.0 in /usr/local/lib/python3.11/dist-packages (from nbconvert[webpdf]) (3.1.6)\n",
            "Requirement already satisfied: jupyter-core>=4.7 in /usr/local/lib/python3.11/dist-packages (from nbconvert[webpdf]) (5.7.2)\n",
            "Requirement already satisfied: jupyterlab-pygments in /usr/local/lib/python3.11/dist-packages (from nbconvert[webpdf]) (0.3.0)\n",
            "Requirement already satisfied: markupsafe>=2.0 in /usr/local/lib/python3.11/dist-packages (from nbconvert[webpdf]) (3.0.2)\n",
            "Requirement already satisfied: mistune<4,>=2.0.3 in /usr/local/lib/python3.11/dist-packages (from nbconvert[webpdf]) (3.1.2)\n",
            "Requirement already satisfied: nbclient>=0.5.0 in /usr/local/lib/python3.11/dist-packages (from nbconvert[webpdf]) (0.10.2)\n",
            "Requirement already satisfied: nbformat>=5.7 in /usr/local/lib/python3.11/dist-packages (from nbconvert[webpdf]) (5.10.4)\n",
            "Requirement already satisfied: packaging in /usr/local/lib/python3.11/dist-packages (from nbconvert[webpdf]) (24.2)\n",
            "Requirement already satisfied: pandocfilters>=1.4.1 in /usr/local/lib/python3.11/dist-packages (from nbconvert[webpdf]) (1.5.1)\n",
            "Requirement already satisfied: pygments>=2.4.1 in /usr/local/lib/python3.11/dist-packages (from nbconvert[webpdf]) (2.18.0)\n",
            "Requirement already satisfied: traitlets>=5.1 in /usr/local/lib/python3.11/dist-packages (from nbconvert[webpdf]) (5.7.1)\n",
            "Requirement already satisfied: pyee<13,>=12 in /usr/local/lib/python3.11/dist-packages (from playwright) (12.1.1)\n",
            "Requirement already satisfied: greenlet<4.0.0,>=3.1.1 in /usr/local/lib/python3.11/dist-packages (from playwright) (3.1.1)\n",
            "Requirement already satisfied: websockets in /usr/local/lib/python3.11/dist-packages (from pyppeteer) (14.2)\n",
            "Requirement already satisfied: appdirs in /usr/local/lib/python3.11/dist-packages (from pyppeteer) (1.4.4)\n",
            "Requirement already satisfied: urllib3 in /usr/local/lib/python3.11/dist-packages (from pyppeteer) (2.3.0)\n",
            "Requirement already satisfied: tqdm in /usr/local/lib/python3.11/dist-packages (from pyppeteer) (4.67.1)\n",
            "Requirement already satisfied: webencodings in /usr/local/lib/python3.11/dist-packages (from bleach!=5.0.0->bleach[css]!=5.0.0->nbconvert[webpdf]) (0.5.1)\n",
            "Requirement already satisfied: tinycss2<1.5,>=1.1.0 in /usr/local/lib/python3.11/dist-packages (from bleach[css]!=5.0.0->nbconvert[webpdf]) (1.4.0)\n",
            "Requirement already satisfied: platformdirs>=2.5 in /usr/local/lib/python3.11/dist-packages (from jupyter-core>=4.7->nbconvert[webpdf]) (4.3.6)\n",
            "Requirement already satisfied: jupyter-client>=6.1.12 in /usr/local/lib/python3.11/dist-packages (from nbclient>=0.5.0->nbconvert[webpdf]) (6.1.12)\n",
            "Requirement already satisfied: fastjsonschema>=2.15 in /usr/local/lib/python3.11/dist-packages (from nbformat>=5.7->nbconvert[webpdf]) (2.21.1)\n",
            "Requirement already satisfied: jsonschema>=2.6 in /usr/local/lib/python3.11/dist-packages (from nbformat>=5.7->nbconvert[webpdf]) (4.23.0)\n",
            "Requirement already satisfied: typing-extensions in /usr/local/lib/python3.11/dist-packages (from pyee<13,>=12->playwright) (4.12.2)\n",
            "Requirement already satisfied: soupsieve>1.2 in /usr/local/lib/python3.11/dist-packages (from beautifulsoup4->nbconvert[webpdf]) (2.6)\n",
            "Requirement already satisfied: attrs>=22.2.0 in /usr/local/lib/python3.11/dist-packages (from jsonschema>=2.6->nbformat>=5.7->nbconvert[webpdf]) (25.1.0)\n",
            "Requirement already satisfied: jsonschema-specifications>=2023.03.6 in /usr/local/lib/python3.11/dist-packages (from jsonschema>=2.6->nbformat>=5.7->nbconvert[webpdf]) (2024.10.1)\n",
            "Requirement already satisfied: referencing>=0.28.4 in /usr/local/lib/python3.11/dist-packages (from jsonschema>=2.6->nbformat>=5.7->nbconvert[webpdf]) (0.36.2)\n",
            "Requirement already satisfied: rpds-py>=0.7.1 in /usr/local/lib/python3.11/dist-packages (from jsonschema>=2.6->nbformat>=5.7->nbconvert[webpdf]) (0.23.1)\n",
            "Requirement already satisfied: pyzmq>=13 in /usr/local/lib/python3.11/dist-packages (from jupyter-client>=6.1.12->nbclient>=0.5.0->nbconvert[webpdf]) (24.0.1)\n",
            "Requirement already satisfied: python-dateutil>=2.1 in /usr/local/lib/python3.11/dist-packages (from jupyter-client>=6.1.12->nbclient>=0.5.0->nbconvert[webpdf]) (2.8.2)\n",
            "Requirement already satisfied: tornado>=4.1 in /usr/local/lib/python3.11/dist-packages (from jupyter-client>=6.1.12->nbclient>=0.5.0->nbconvert[webpdf]) (6.4.2)\n",
            "Requirement already satisfied: six>=1.5 in /usr/local/lib/python3.11/dist-packages (from python-dateutil>=2.1->jupyter-client>=6.1.12->nbclient>=0.5.0->nbconvert[webpdf]) (1.17.0)\n"
          ]
        }
      ]
    },
    {
      "cell_type": "code",
      "source": [
        "!playwright install"
      ],
      "metadata": {
        "colab": {
          "base_uri": "https://localhost:8080/"
        },
        "id": "JIUJJpFSjK3f",
        "outputId": "e29a5488-9a59-46db-d47f-6bee8cc0a1f2"
      },
      "execution_count": 50,
      "outputs": [
        {
          "output_type": "stream",
          "name": "stdout",
          "text": [
            "Playwright Host validation warning: \n",
            "╔══════════════════════════════════════════════════════╗\n",
            "║ Host system is missing dependencies to run browsers. ║\n",
            "║ Missing libraries:                                   ║\n",
            "║     libgtk-4.so.1                                    ║\n",
            "║     libgraphene-1.0.so.0                             ║\n",
            "║     libwoff2dec.so.1.0.2                             ║\n",
            "║     libgstgl-1.0.so.0                                ║\n",
            "║     libgstcodecparsers-1.0.so.0                      ║\n",
            "║     libavif.so.13                                    ║\n",
            "║     libharfbuzz-icu.so.0                             ║\n",
            "║     libenchant-2.so.2                                ║\n",
            "║     libsecret-1.so.0                                 ║\n",
            "║     libhyphen.so.0                                   ║\n",
            "║     libmanette-0.2.so.0                              ║\n",
            "╚══════════════════════════════════════════════════════╝\n",
            "    at validateDependenciesLinux (/usr/local/lib/python3.11/dist-packages/playwright/driver/package/lib/server/registry/dependencies.js:216:9)\n",
            "\u001b[90m    at process.processTicksAndRejections (node:internal/process/task_queues:105:5)\u001b[39m\n",
            "    at async Registry._validateHostRequirements (/usr/local/lib/python3.11/dist-packages/playwright/driver/package/lib/server/registry/index.js:865:43)\n",
            "    at async Registry._validateHostRequirementsForExecutableIfNeeded (/usr/local/lib/python3.11/dist-packages/playwright/driver/package/lib/server/registry/index.js:963:7)\n",
            "    at async Registry.validateHostRequirementsForExecutablesIfNeeded (/usr/local/lib/python3.11/dist-packages/playwright/driver/package/lib/server/registry/index.js:952:43)\n",
            "    at async t.<anonymous> (/usr/local/lib/python3.11/dist-packages/playwright/driver/package/lib/cli/program.js:122:7)\n"
          ]
        }
      ]
    },
    {
      "cell_type": "code",
      "source": [
        "from google.colab import drive\n",
        "drive.mount('/content/drive')"
      ],
      "metadata": {
        "colab": {
          "base_uri": "https://localhost:8080/"
        },
        "id": "yMUL3m_SsaLQ",
        "outputId": "47a9a45b-2333-4bf1-a9c7-7bca0b8da8e0"
      },
      "execution_count": 51,
      "outputs": [
        {
          "output_type": "stream",
          "name": "stdout",
          "text": [
            "Drive already mounted at /content/drive; to attempt to forcibly remount, call drive.mount(\"/content/drive\", force_remount=True).\n"
          ]
        }
      ]
    },
    {
      "cell_type": "code",
      "source": [
        "!jupyter nbconvert --to webpdf /content/drive/My\\Drive/proyecto/data-cleaning.ipynb --output \"data-cleaning.pdf\""
      ],
      "metadata": {
        "colab": {
          "base_uri": "https://localhost:8080/"
        },
        "id": "iX6h9ybhkOnH",
        "outputId": "b704a0e6-89ab-41b6-9ed0-ea74796f8450"
      },
      "execution_count": 52,
      "outputs": [
        {
          "output_type": "stream",
          "name": "stdout",
          "text": [
            "[NbConvertApp] Converting notebook /content/drive/MyDrive/proyecto/data-cleaning.ipynb to webpdf\n",
            "[NbConvertApp] Building PDF\n",
            "[NbConvertApp] PDF successfully created\n",
            "[NbConvertApp] Writing 191929 bytes to /content/drive/MyDrive/proyecto/data-cleaning.pdf.pdf\n"
          ]
        }
      ]
    }
  ]
}